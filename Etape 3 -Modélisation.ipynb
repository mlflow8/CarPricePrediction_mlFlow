{
 "cells": [
  {
   "cell_type": "markdown",
   "id": "af4852f9",
   "metadata": {},
   "source": [
    "<h1 style=\"text-align:center;\">Etape 3: Modélisation </h1>"
   ]
  },
  {
   "cell_type": "markdown",
   "id": "c5a137e4",
   "metadata": {},
   "source": [
    "# 1. Importation des packages"
   ]
  },
  {
   "cell_type": "code",
   "execution_count": 15,
   "id": "59f66385",
   "metadata": {},
   "outputs": [],
   "source": [
    "import pandas as pd\n",
    "\n",
    "import numpy as np   # Importe la bibliothèque numpy pour la manipulation de tableaux (arrays).\n",
    "\n",
    "from sklearn.model_selection import train_test_split  # Importe la fonction train_test_split pour diviser les données en ensembles d'entraînement et de test.\n",
    "#Model\n",
    "from sklearn.tree import DecisionTreeRegressor  # Importe le modèle de régression par arbre de décision.\n",
    "from sklearn.ensemble import RandomForestRegressor  # Importe le modèle de régression par forêt aléatoire.\n",
    "from sklearn.linear_model import LinearRegression, Lasso  # Importe les modèles de régression linéaire et de régression Lasso.\n",
    "#metrique\n",
    "from sklearn.metrics import classification_report, confusion_matrix  # Importe des métriques pour évaluer les performances des modèles.\n",
    "from sklearn.metrics import accuracy_score\n",
    "from sklearn.metrics import mean_absolute_error, mean_squared_error, r2_score\n",
    "\n",
    "# Importe GridSearchCV pour effectuer une recherche des meilleurs hyperparamètres et ShuffleSplit pour diviser les données en ensembles de validation.\n",
    "from sklearn.model_selection import GridSearchCV, ShuffleSplit\n",
    "\n",
    "import matplotlib.pyplot as plt  # Importe la bibliothèque matplotlib pour la visualisation de données.\n",
    "import seaborn as sns  # Importe la bibliothèque seaborn pour la visualisation de données basée sur matplotlib.\n",
    "\n",
    "from imblearn.over_sampling import SMOTE\n",
    "from xgboost import XGBClassifier\n",
    "import mlflow\n",
    "import datetime\n",
    "import warnings\n",
    "\n",
    "pd.options.display.max_columns = None\n",
    "warnings.filterwarnings(\"ignore\")\n",
    "\n",
    "from sklearn.preprocessing import StandardScaler  # Importe StandardScaler pour la normalisation des données."
   ]
  },
  {
   "cell_type": "markdown",
   "id": "60a92d7b",
   "metadata": {},
   "source": [
    "# 2. Configuration MLFlow"
   ]
  },
  {
   "cell_type": "code",
   "execution_count": 16,
   "id": "63c39818",
   "metadata": {},
   "outputs": [
    {
     "ename": "MlflowException",
     "evalue": "API request to endpoint /api/2.0/mlflow/experiments/get-by-name failed with error code 404 != 200. Response body: '<!DOCTYPE html>\n<html lang=\"en-US\">\n  <head data-suburl=\"\">\n    <meta http-equiv=\"Content-Type\" content=\"text/html; charset=UTF-8\"/>\n    <meta http-equiv=\"X-UA-Compatible\" content=\"IE=edge\"/>\n    \n    \n      <meta name=\"viewport\" content=\"width=device-width, initial-scale=1\"/>\n    \n    <meta name=\"referrer\" content=\"no-referrer\"/>\n    <meta name=\"_csrf\" content=\"s3GJiF5XZB4PRQuUAreaVr_i3p86MTY5Njg0NjQ4MDY2ODU3MDQzNQ\"/>\n    <meta name=\"_suburl\" content=\"\"/>\n    <meta name=\"_appversion\" content=\"f971559b78f32c7f36fca73f367b6f82c1d84d10\" />\n    <meta name=\"_bareRepo\" content=\"\"/>\n\n    \n    \n  <script>(function(w, d, s, l, i) {\n      w[l] = w[l] || [];\n      w[l].push({\n        'gtm.start':\n          new Date().getTime(), event: 'gtm.js'\n      });\n      var f = d.getElementsByTagName(s)[0],\n        j = d.createElement(s),\n        dl = l != 'dataLayer' ? '&l=' + l : '';\n      j.async = true;\n      j.src =\n        'https://www.googletagmanager.com/gtm.js?id=' + i + dl;\n      f.parentNode.insertBefore(j, f);\n    })(window, document, 'script', 'dataLayer', 'GTM-PGHTMDN');</script>\n\n    \n\n    \n    \n      \n    \n    \n  \n    <title>Page Not Found · DAGsHub</title>\n    <meta name=\"description\"\n          content=\"DagsHub is where people create data science projects. Use DagsHub to discover, reproduce and contribute to your favorite data science projects.\"/>\n  \n  \n  <meta property=\"og:url\" content=\"https://dagshub.com/\"/>\n  <meta property=\"og:type\" content=\"website\"/>\n  <meta property=\"og:site_name\" content=\"DagsHub\">\n  <meta property=\"og:title\" content=\"The home for data science collaboration\">\n  <meta property=\"og:description\"\n        content=\"DagsHub is where people create data science projects. Use DagsHub to discover, reproduce and contribute to your favorite data science projects.\">\n  <meta property=\"og:image\" content=\"https://dagshub.com/img/open_graph/dagshub-logo.png\"/>\n  <meta property=\"og:image:type\" content=\"image/png\">\n  <meta property=\"og:image:width\" content=\"1200\">\n  <meta property=\"og:image:height\" content=\"1200\">\n  <meta property=\"og:image\" content=\"https://dagshub.com/img/open_graph/dagshub-mark.png\">\n  <meta property=\"og:image:type\" content=\"image/png\">\n  <meta property=\"og:image:width\" content=\"1200\">\n  <meta property=\"og:image:height\" content=\"620\">\n  <meta property=\"og:image\" content=\"https://dagshub.com/img/open_graph/dagshub-dags.png\">\n  <meta property=\"og:image:type\" content=\"image/png\">\n  <meta property=\"og:image:width\" content=\"1200\">\n  <meta property=\"og:image:height\" content=\"620\">\n  \n  <meta property=\"twitter:site\" content=\"@TheRealDagsHub\">\n  <meta property=\"twitter:creator\" content=\"@TheRealDagsHub\">\n  <meta property=\"twitter:card\" content=\"summary_large_image\">\n  <meta property=\"twitter:title\" content=\"DagsHub\">\n  <meta property=\"twitter:description\"\n        content=\"DagsHub is where people create data science projects. Use DagsHub to discover, reproduce and contribute to your favorite data science projects.\">\n  <meta property=\"twitter:image:src\" content=\"https://dagshub.com/img/open_graph/dagshub-logo.png\">\n  <meta property=\"twitter:image:width\" content=\"1200\">\n  <meta property=\"twitter:image:height\" content=\"1200\">\n\n  <script type=\"application/ld+json\">\n    {\n        \"@context\": \"http://schema.org\",\n        \"@type\": \"WebSite\",\n        \"name\": \"DagsHub\",\n        \"url\": \"https://dagshub.com/\",\n        \"sameAs\": [\n            \"https://www.facebook.com/DagsHub/\",\n            \"https://twitter.com/TheRealDagsHub/\",\n            \"https://linkedin.com/company/dagshub/\"\n        ],\n        \"potentialAction\": {\n        \"@type\": \"SearchAction\",\n        \"description\": \"Search for data science projects on DagsHub.\",\n        \"target\": \"https://dagshub.com/explore/repos?q={search_term}\",\n        \"query-input\": \"required name=search_term\"\n        }\n    }\n  </script>\n\n\n    \n\n    <link rel=\"shortcut icon\" href=\"/img/favicon-black.svg\"/>\n\n    <script src=\"/js/jquery-3.6.0.min.js\"></script>\n    \n  <link rel=\"stylesheet\" href=\"https://cdnjs.cloudflare.com/ajax/libs/font-awesome/5.15.3/css/all.css\"\n        integrity=\"sha512-3icgkoIO5qm2D4bGSUkPqeQ96LS8+ukJC7Eqhl1H5B2OJMEnFqLmNDxXVmtV/eq5M65tTDkUYS/Q0P4gvZv+yA==\"\n        crossorigin=\"anonymous\"\n        referrerpolicy=\"no-referrer\" />\n\n\n    <link rel=\"stylesheet\" href=\"/assets/octicons-4.3.0/octicons.min.css\">\n\n    \n    \n\n    \n\n    \n\n    \n\n    \n\n    \n\n    \n\n    \n\n    \n    \n    <link rel=\"preload\" href=\"/css/themes/default/assets/fonts/brand-icons.woff2\" as=\"font\"\n          type=\"font/woff2\" crossorigin/>\n    <link rel=\"preload\" href=\"/css/themes/default/assets/fonts/icons.woff2\" as=\"font\" type=\"font/woff2\"\n          crossorigin/>\n    <link rel=\"preload\" href=\"/assets/fontawesome-5.15.3/webfonts/fa-solid-900.woff2\" as=\"font\"\n          type=\"font/woff2\" crossorigin/>\n\n    \n    <link rel=\"stylesheet\" href=\"/css/semantic-2.4.2.min.css\">\n\n    \n    <link rel=\"stylesheet\" href=\"/css/build/dagshub.css?v=f971559b78f32c7f36fca73f367b6f82c1d84d10\">\n    <link rel=\"stylesheet\" href=\"/css/gogs.css?v=f971559b78f32c7f36fca73f367b6f82c1d84d10\">\n\n    \n    <link rel=\"preconnect\" href=\"https://fonts.googleapis.com\">\n    <link rel=\"preconnect\" href=\"https://fonts.gstatic.com\" crossorigin>\n    <link href=\"https://fonts.googleapis.com/css?family=Comfortaa|Lato:300,400,700,900|Jaldi|Open+Sans&display=swap\" rel=\"stylesheet\">\n\n    <noscript>\n      <style>\n        .dropdown:hover > .menu {\n          display: block;\n        }\n\n        .ui.secondary.menu .dropdown.item > .menu {\n          margin-top: 0;\n        }\n      </style>\n    </noscript>\n    <script src=\"/js/semantic-2.4.2.min.js\"></script>\n\n    \n    \n      <link rel=\"stylesheet\" href=\"/css/build/static_dagshub.css?v=f971559b78f32c7f36fca73f367b6f82c1d84d10\">\n      <link href=\"https://fonts.googleapis.com/css2?family=Inter:wght@300;400;500;600;700;900&display=swap\" rel=\"stylesheet\">\n      <link href='https://fonts.googleapis.com/css?family=Fira Code:wght@300;400;500;600;700;900' rel='stylesheet'>\n    \n\n    <meta name=\"theme-color\" content=\"#103037\">\n\n    \n  <script src=\"https://www.google.com/recaptcha/api.js\" async defer></script>\n\n\n\n    \n  </head>\n  <body>\n\n    \n\n\n\n  <noscript>\n    <iframe src=\"https://www.googletagmanager.com/ns.html?id=GTM-PGHTMDN\"\n            height=\"0\" width=\"0\" style=\"display:none;visibility:hidden\"></iframe>\n  </noscript>\n\n\n\n\n<div class=\"ui tiny modal\" id=\"contact-modal\">\n  <i class=\"close icon\"></i>\n  <div class=\"header\">\n    Contact us\n  </div>\n  <form id=\"contact-form\" class=\"ui form content\" action=\"contact_form\" method=\"post\">\n    <input type=\"hidden\" name=\"_csrf\" value=\"s3GJiF5XZB4PRQuUAreaVr_i3p86MTY5Njg0NjQ4MDY2ODU3MDQzNQ\">\n    <div class=\"required field\">\n      <label for=\"user_name\">Your email address</label>\n      <input name=\"email\" type=\"email\" value=\"\"\n             placeholder=\"tony@stark-industries.com\" required>\n    </div>\n    <div class=\"required field\">\n      <label for=\"subject\">Subject</label>\n      <input name=\"subject\" value=\"Hi DagsHub, let's talk\" placeholder=\"What would you like to talk about?\" required>\n    </div>\n    <div class=\"required field\">\n      <textarea class=\"autosize\" name=\"body\" rows=\"7\" ></textarea>\n    </div>\n    \n      <script type=\"text/javascript\">\n        var myRecaptchaListeners = {\n          callAllListeners: function(listeners) {\n            return () => listeners.forEach((f) => f());\n          },\n          successListeners: [],\n          expireListeners: [],\n        };\n        contactFormCaptchaCallback = myRecaptchaListeners.callAllListeners(myRecaptchaListeners.successListeners);\n        contactFormCaptchaExpired = myRecaptchaListeners.callAllListeners(myRecaptchaListeners.expireListeners);\n      </script>\n      <div class=\"g-recaptcha field\"\n           data-sitekey=\"6Lf0Z7gUAAAAAKCsW1V-PqN58BcBNAUxe-oIU3nw\"\n           data-callback=\"contactFormCaptchaCallback\"\n           data-expired-callback=\"contactFormCaptchaExpired\"></div>\n    \n    <input type=\"hidden\" name=\"page\"/>\n    <input type=\"hidden\" name=\"referring_page\"/>\n    <input type=\"hidden\" name=\"referrer\"/>\n    <button class=\"ui positive center aligned labeled icon button\" id=\"send-contact-request-btn\">\n      Send\n      <i class=\"checkmark icon\"></i>\n    </button>\n    \n      <script type=\"text/javascript\">\n        (function() {\n          const submitBtn = document.getElementById('send-contact-request-btn');\n          onExpire = () => submitBtn.style.display = 'none';\n          onExpire();\n          myRecaptchaListeners.successListeners.push(() => {\n            submitBtn.style.display = 'block';\n          });\n          myRecaptchaListeners.expireListeners.push(onExpire);\n        })();\n      </script>\n    \n    <div class=\"ui hidden dimmer inverted\">\n      <div class=\"ui loader\"></div>\n      <div class=\"ui hidden positive message\">\n        <p>Thank you! We'll be in touch ASAP.</p>\n      </div>\n      <div class=\"ui hidden negative message\">\n        <p>Something went wrong, please try again or contact us directly at <a\n                  href=\"mailto:contact@dagshub.com\">contact@dagshub.com</a></p>\n      </div>\n    </div>\n  </form>\n  <script>\n    (function() {\n      const $contactModal = $('#contact-modal');\n      const $contactForm = $('#contact-form');\n      const $dimmer = $contactForm.find('.dimmer');\n      const $loader = $dimmer.find('.loader');\n      const $okMsg = $dimmer.find('.positive');\n      const $errorMsg = $dimmer.find('.negative');\n\n      $contactForm.find('input[name=page]').val(document.URL);\n      $contactForm.find('input[name=referring_page]').val(new URL(document.URL).searchParams.get('referring_page'));\n      $contactForm.find('input[name=referrer]').val(document.referrer);\n\n      \n      $contactModal.modal({\n        onShow: () => {\n          $dimmer.dimmer('hide');\n          $loader.transition('fade in', 0);\n          $okMsg.transition('fade out', 0);\n          $errorMsg.transition('fade out', 0);\n        }\n      });\n\n      $contactForm.submit((e) => {\n        e.preventDefault();\n\n        $dimmer.dimmer('show');\n\n        function hideModal() {\n          setTimeout(() => {\n            $contactModal.modal('hide');\n          }, 3000);\n        }\n\n        \n        const loaderToMessage = function(targetMsg = $okMsg, afterMsg = hideModal) {\n          $loader.transition('fade out');\n          targetMsg.transition('fade in');\n          if (afterMsg) afterMsg();\n        };\n\n        $.ajax({\n          url: $contactForm.attr('action'),\n          method: 'post',\n          data: $contactForm.serialize(),\n          success: () => loaderToMessage(),\n          error: e => {\n            console.error(e);\n            \n            loaderToMessage($errorMsg, null);\n          }\n        });\n        \n        \n        \n        \n      });\n    })();\n  </script>\n  <div class=\"ui secondary segment\">\n    Or if you want, you can join our community at <a href=\"https://discord.com/invite/9gU36Y6\"\n                                                     class=\"ui basic discord icon\"><i class=\"discord grey icon big\"></i></a>\n  </div>\n</div>\n\n\n\n    \n      \n\n<div class=\"mobile dagshub-navbar\">\n    <div class=\"line-divider\"></div>\n\n\n\n\n  \n    \n      <div class=\"primary center button\" style=\"margin-bottom: 10px;\">\n        <a  id=\"sign-up-navbar-mobile\" data-analytics-event=\"Navbar_Register_Clicked\"\n            href=\"/user/sign_up?redirect_to=%2frihemmanel54%2fMlops_Car_Price_Prediction%2fapi%2f2.0%2fmlflow%2fexperiments%2fget-by-name\n\n\">\n          Register\n        </a>\n      </div>\n    \n      <div class=\"secondary center button\">\n        <a id=\"sign-in-navbar-mobile\" data-analytics-event=\"Navbar_Login_Clicked\"\n           href=\"/user/login?redirect_to=%2frihemmanel54%2fMlops_Car_Price_Prediction%2fapi%2f2.0%2fmlflow%2fexperiments%2fget-by-name\n\n\">\n          Login\n        </a>\n      </div>\n  \n  <div class=\"line-divider\"></div>\n  \n  \n    <div class=\"subtitle\">Resources</div>\n    <a class=\"navbar-item\"\n       href=\"/docs\" onclick=\"trackAnalyticsEvent('Resources_Docs_Clicked')\">Docs</a>\n    <a class=\"navbar-item\" href=\"/blog\" onclick=\"trackAnalyticsEvent('Resources_Blog_Clicked')\">Blog</a>\n    <a class=\"navbar-item\" data-analytics-event=\"Resources_Datasets_Clicked\" href=\"/datasets\">Datasets</a>\n    <a class=\"navbar-item\" data-analytics-event=\"Resources_Glossary_Clicked\" href=\"/glossary\">Glossary</a>\n    \n      <div class=\"line-divider\"></div>\n      <div class=\"subtitle\">Product</div>\n      <a class=\"navbar-item\" tabindex=\"0\" href=\"/data-engine\">Data Engine</a>\n      <a class=\"navbar-item\" tabindex=\"0\" href=\"/product\">Platform</a>\n      <a class=\"navbar-item\" tabindex=\"0\" href=\"/enterprise\">Enterprise</a>\n    \n    <div class=\"line-divider\"></div>\n    <a class=\"navbar-item\" href=\"/pricing\">Pricing</a>\n  \n  <a class=\"navbar-item\" href=\"/explore/repos\">Explore</a>\n  <div class=\"line-divider\"></div>\n  <a class=\"navbar-item\" href=\"https://discord.com/invite/9gU36Y6\" onclick=\"trackAnalyticsEvent('DiscordIcon_Clicked')\">\n    <img src=\"/assets/social_icons/discord.svg\" aria-label=\"Connect to our Discord channel\">\n    <span>Connect to our Discord channel</span>\n  </a>\n    \n</div>\n<div class=\"pusher\">\n<div class=\"ui full height\">\n  <noscript>This website works better with JavaScript</noscript>\n  \n    <div class=\" navbar-container\">\n      <div id=\"menu-container\" class=\"dagshub-navbar \">\n        <div class=\"left-menu\">\n          <div class=\"fixed-content\">\n            <a href=\"https://dagshub.com/\" tabindex=\"0\">\n              \n              <img width=\"34\" height=\"30\" alt=\"DagsHub navbar logo\" aria-label=\"DagsHub Home\" class=\"navbar-logo\"\n                   src=\"/img/favicon.svg\">\n              \n            </a>\n            <form class=\"search-bar-container\" action=\"/explore/repos\">\n                <input class=\"search-bar\" name=\"q\" value=\"\" aria-label=\"Search public projects\"\n                       placeholder=\"Search public repositories...\" tabindex=\"0\" autocomplete=\"off\">\n            </form>\n          </div>\n          \n          \n            <div class=\"dropdown navbar-item\" tabindex=\"0\">\n              Resources &nbsp; <img class=\"flip\" src=\"/assets/chevron-icon.svg\">\n                <div class=\"submenu\">\n                  <a href=\"/docs\" tabindex=\"0\" onclick=\"trackAnalyticsEvent('Resources_Docs_Clicked')\">Docs</a>\n                  <a href=\"/blog\" tabindex=\"0\" onclick=\"trackAnalyticsEvent('Resources_Blog_Clicked')\">Blog</a>\n                  <a href=\"/datasets\" tabindex=\"0\" data-analytics-event=\"Resources_Datasets_Clicked\">Datasets</a>\n                  <a href=\"/glossary\" tabindex=\"0\" data-analytics-event=\"Resources_Glossary_Clicked\">Glossary</a>\n                </div>\n            </div>\n          \n          <a class=\"navbar-item\" tabindex=\"0\"\n             href=\"/explore/repos\" onclick=\"trackAnalyticsEvent('ExploreTab_Clicked')\">Explore</a>\n          \n            <a class=\"navbar-item\" tabindex=\"0\" href=\"/pricing\">Pricing</a>\n          \n          <div class=\"dropdown navbar-item\" tabindex=\"0\">\n            Product &nbsp; <img class=\"flip\" src=\"/assets/chevron-icon.svg\">\n            <div class=\"submenu\">\n              <a class=\"navbar-item\" tabindex=\"0\" href=\"/data-engine\">Data Engine</a>\n              <a class=\"navbar-item\" tabindex=\"0\" href=\"/product\">Platform</a>\n              <a class=\"navbar-item\" tabindex=\"0\" href=\"/enterprise\">Enterprise</a>\n            </div>\n          </div>\n          \n        \n        </div>\n        \n          <input type=\"checkbox\" id=\"menu-toggle\" style=\"display: none;\" tabindex=\"0\">\n          <label id=\"menu-toggle-label\" for=\"menu-toggle\"><img src=\"/assets/menu-open.svg\"></label>\n          <div id=\"menu-close-label\" style=\"display: none;\"><img src=\"/assets/x.svg\"></div>\n          <div id=\"menu-open-label\" style=\"display: none;\"><img src=\"/assets/menu-open.svg\"></div>\n        \n        <div class=\"right-menu\">\n            <a aria-label=\"join our discord\"\n               class=\"navbar-icon dagshub-tooltip\"\n               tabindex=\"0\"\n               href=\"https://discord.com/invite/9gU36Y6\" onclick=\"trackAnalyticsEvent('DiscordIcon_Clicked')\">\n              <img src=\"/assets/social_icons/discord.svg\" aria-label=\"Connect to our Discord channel\">\n              <span>Connect to Dagshub Discord channel</span>\n            </a>\n            \n              \n                <div class=\"primary button\">\n                  <a id=\"sign-up-navbar\" data-analytics-event=\"Navbar_Register_Clicked\"\n                     href=\"/user/sign_up?redirect_to=%2frihemmanel54%2fMlops_Car_Price_Prediction%2fapi%2f2.0%2fmlflow%2fexperiments%2fget-by-name\n\n\">\n                    Register\n                  </a>\n                </div>\n              \n              <a id=\"sign-in-navbar\" class=\"secondary button\"\n                 data-analytics-event=\"Navbar_Login_Clicked\"\n                 href=\"/user/login?redirect_to=%2frihemmanel54%2fMlops_Car_Price_Prediction%2fapi%2f2.0%2fmlflow%2fexperiments%2fget-by-name\n\n\">\n                Login\n              </a>\n            \n        </div>\n      </div>\n    </div>\n  \n\n    \n\n<div class=\"ui container center\">\n  <p style=\"margin-top: 100px\"><img src=\"/img/404.png\" alt=\"404\"/></p>\n  <div class=\"ui divider\"></div>\n  <br>\n  \n  <p>\n    If you think this is an error, please report it on our\n    <strong>\n      <a href=\"https://discord.com/invite/9gU36Y6\">Discord support channel <i class=\"discord icon\"></i></a>\n    </strong>\n  </p>\n    Or, contact us at <a href=\"mailto:support@dagshub.com\">support@dagshub.com</a>.</p>\n</div>\n\n\n</div>\n<footer>\n  <div class=\"ui footer\">\n      <div class=\"dagshub-footer\">\n          <a href=\"https://dagshub.com/\">\n            <img alt=\"footer DagsHub logo\" id=\"footer-logo\" class=\"ui centered image\" aria-label=\"Dagshub home\"\n                           src=\"/img/footerlogo.svg\">\n          </a>\n          <div id=\"footer-social\" class=\"\">\n            <a aria-label=\"DagsHub on Twitter\" class=\"icon-link\"\n               rel=\"nofollow\" target=\"_blank\"\n               href=\"https://twitter.com/TheRealDAGsHub\">\n              <i class=\"twitter large icon\"></i>\n            </a>\n            <a aria-label=\"DagsHub on YouTube\" class=\"icon-link\"\n               rel=\"nofollow\" target=\"_blank\"\n               href=\"https://youtube.com/c/dagshub\">\n              <i class=\"youtube large icon\"></i>\n            </a>\n            <a aria-label=\"DagsHub on LinkedIn\" class=\"icon-link\"\n               rel=\"nofollow\" target=\"_blank\"\n               href=\"https://www.linkedin.com/company/dagshub\">\n              <i class=\"linkedin large icon\"></i>\n            </a>\n            <a aria-label=\"join our Discord\" class=\"icon-link\"\n               rel=\"nofollow\" target=\"_blank\"\n               href=\"https://discord.com/invite/9gU36Y6\">\n              \n              <svg width=\"24\" height=\"19\" viewBox=\"0 0 24 19\" fill=\"none\" xmlns=\"http://www.w3.org/2000/svg\">\n                <path d=\"M20.2415 2.18566C18.7257 1.49015 17.1003 0.977731 15.4007 0.684245C15.3698 0.678581 15.3389 0.692736 15.3229 0.721047C15.1139 1.09286 14.8823 1.57791 14.7202 1.95916C12.8922 1.6855 11.0736 1.6855 9.28318 1.95916C9.12099 1.56944 8.88103 1.09286 8.67104 0.721047C8.6551 0.693681 8.62418 0.679525 8.59323 0.684245C6.89465 0.976793 5.26918 1.48921 3.75245 2.18566C3.73932 2.19133 3.72807 2.20077 3.7206 2.21303C0.637438 6.8192 -0.207169 11.3122 0.207167 15.7494C0.209041 15.7711 0.221228 15.7919 0.238101 15.8051C2.27228 17.2989 4.24273 18.2058 6.17659 18.807C6.20754 18.8164 6.24034 18.8051 6.26003 18.7796C6.71749 18.1549 7.12527 17.4962 7.4749 16.8035C7.49553 16.7629 7.47584 16.7148 7.43366 16.6988C6.78686 16.4534 6.17097 16.1542 5.57852 15.8145C5.53166 15.7872 5.52791 15.7201 5.57102 15.688C5.69569 15.5946 5.8204 15.4974 5.93944 15.3993C5.96098 15.3814 5.99099 15.3776 6.01631 15.3889C9.90842 17.1659 14.1221 17.1659 17.9683 15.3889C17.9936 15.3766 18.0236 15.3804 18.0461 15.3983C18.1652 15.4965 18.2898 15.5946 18.4154 15.688C18.4585 15.7201 18.4557 15.7872 18.4089 15.8145C17.8164 16.1608 17.2005 16.4534 16.5528 16.6978C16.5106 16.7139 16.4919 16.7629 16.5125 16.8035C16.8696 17.4952 17.2774 18.1539 17.7264 18.7787C17.7452 18.8051 17.7789 18.8164 17.8099 18.807C19.7531 18.2058 21.7235 17.2989 23.7577 15.8051C23.7755 15.7919 23.7868 15.7721 23.7887 15.7503C24.2845 10.6204 22.9581 6.16429 20.2724 2.21397C20.2659 2.20077 20.2546 2.19133 20.2415 2.18566ZM8.05612 13.0476C6.88433 13.0476 5.91881 11.9718 5.91881 10.6506C5.91881 9.32943 6.86561 8.25364 8.05612 8.25364C9.25598 8.25364 10.2122 9.33887 10.1934 10.6506C10.1934 11.9718 9.2466 13.0476 8.05612 13.0476ZM15.9585 13.0476C14.7867 13.0476 13.8212 11.9718 13.8212 10.6506C13.8212 9.32943 14.768 8.25364 15.9585 8.25364C17.1584 8.25364 18.1145 9.33887 18.0958 10.6506C18.0958 11.9718 17.1584 13.0476 15.9585 13.0476Z\"/>\n              </svg>\n            </a>\n          </div>\n        <div class=\"links\">\n          <a class=\"footer-item\" rel=\"noopener noreferrer\" href=\"/about\">Our Story</a>\n          <a class=\"footer-item\" rel=\"noopener noreferrer\" href=\"/careers\">Careers</a>\n              \n          <a id=\"merch-store\" class=\"footer-item\" rel=\"noopener noreferrer\"\n             href=\"https://teespring.com/stores/dagshub\">Merch</a>\n          <a class=\"footer-item\" id=\"contact-us-footer\" href=\"javascript:\">Contact Us</a>\n          <script>\n            (function() {\n              const $contactModal = $('#contact-modal');\n              const $contactForm = $contactModal.find('#contact-form');\n              $contactModal.modal('attach events', '#contact-us-footer', 'show');\n              $('#contact-us-footer').on('click', () => {\n                $contactForm.attr('action', 'contact_form');\n              });\n            })();\n          </script>\n              \n                <a class=\"footer-item\" rel=\"noopener noreferrer\" href=\"/enterprise\">Enterprise</a>\n                <a class=\"footer-item\" rel=\"noopener noreferrer\" href=\"/pricing\">Pricing</a>\n              \n        </div>\n          <h2>The home for data science collaboration</h2>\n          <div class=\"legal\">\n            <p>© Copyright Dagshub 2023</p>\n            <div class=\"\">\n              <a class=\"footer-item\" rel=\"noopener noreferrer\" href=\"/terms\">Terms of Service</a>\n              <a class=\"footer-item\" rel=\"noopener noreferrer\" href=\"/privacy\">Privacy Policy</a>\n            </div>\n          </div>\n\n        </div>\n\n      \n      \n      \n      \n      \n      \n      \n      \n      \n      \n      \n      \n\n\n  </div>\n</footer>\n\n\n</div>\n</body>\n\n\n\n\n\n\n\n\n\n\n\n<script src=\"/js/libs/emojify-1.1.0.min.js\"></script>\n<script src=\"/js/libs/clipboard-1.5.9.min.js\"></script>\n\n\n\n<script src=\"/js/gogs.js?v=f971559b78f32c7f36fca73f367b6f82c1d84d10\"></script>\n<script src=\"/js/dagshub.js?v=f971559b78f32c7f36fca73f367b6f82c1d84d10\"></script>\n\n\n\n\n\n\n\n\n\n\n  <script src=\"/js/integrations.js?v=f971559b78f32c7f36fca73f367b6f82c1d84d10\"></script>\n  <script src=\"/js/bare.js?v=f971559b78f32c7f36fca73f367b6f82c1d84d10\"></script>\n\n\n\n\n\n</html>\n\n\n'",
     "output_type": "error",
     "traceback": [
      "\u001b[1;31m---------------------------------------------------------------------------\u001b[0m",
      "\u001b[1;31mMlflowException\u001b[0m                           Traceback (most recent call last)",
      "Cell \u001b[1;32mIn[16], line 7\u001b[0m\n\u001b[0;32m      5\u001b[0m \u001b[38;5;66;03m#setup mlflow\u001b[39;00m\n\u001b[0;32m      6\u001b[0m mlflow\u001b[38;5;241m.\u001b[39mset_tracking_uri(\u001b[38;5;124m'\u001b[39m\u001b[38;5;124mhttps://dagshub.com/rihemmanel54/Mlops_Car_Price_Prediction\u001b[39m\u001b[38;5;124m'\u001b[39m) \u001b[38;5;66;03m#your mlfow tracking uri\u001b[39;00m\n\u001b[1;32m----> 7\u001b[0m \u001b[43mmlflow\u001b[49m\u001b[38;5;241;43m.\u001b[39;49m\u001b[43mset_experiment\u001b[49m\u001b[43m(\u001b[49m\u001b[38;5;124;43m\"\u001b[39;49m\u001b[38;5;124;43mMlops_Car_Price_Prediction-experiment\u001b[39;49m\u001b[38;5;124;43m\"\u001b[39;49m\u001b[43m)\u001b[49m\n",
      "File \u001b[1;32m~\\anaconda3\\envs\\mlops\\lib\\site-packages\\mlflow\\tracking\\fluent.py:128\u001b[0m, in \u001b[0;36mset_experiment\u001b[1;34m(experiment_name, experiment_id)\u001b[0m\n\u001b[0;32m    126\u001b[0m client \u001b[38;5;241m=\u001b[39m MlflowClient()\n\u001b[0;32m    127\u001b[0m \u001b[38;5;28;01mif\u001b[39;00m experiment_id \u001b[38;5;129;01mis\u001b[39;00m \u001b[38;5;28;01mNone\u001b[39;00m:\n\u001b[1;32m--> 128\u001b[0m     experiment \u001b[38;5;241m=\u001b[39m \u001b[43mclient\u001b[49m\u001b[38;5;241;43m.\u001b[39;49m\u001b[43mget_experiment_by_name\u001b[49m\u001b[43m(\u001b[49m\u001b[43mexperiment_name\u001b[49m\u001b[43m)\u001b[49m\n\u001b[0;32m    129\u001b[0m     \u001b[38;5;28;01mif\u001b[39;00m \u001b[38;5;129;01mnot\u001b[39;00m experiment:\n\u001b[0;32m    130\u001b[0m         _logger\u001b[38;5;241m.\u001b[39minfo(\n\u001b[0;32m    131\u001b[0m             \u001b[38;5;124m\"\u001b[39m\u001b[38;5;124mExperiment with name \u001b[39m\u001b[38;5;124m'\u001b[39m\u001b[38;5;132;01m%s\u001b[39;00m\u001b[38;5;124m'\u001b[39m\u001b[38;5;124m does not exist. Creating a new experiment.\u001b[39m\u001b[38;5;124m\"\u001b[39m,\n\u001b[0;32m    132\u001b[0m             experiment_name,\n\u001b[0;32m    133\u001b[0m         )\n",
      "File \u001b[1;32m~\\anaconda3\\envs\\mlops\\lib\\site-packages\\mlflow\\tracking\\client.py:508\u001b[0m, in \u001b[0;36mMlflowClient.get_experiment_by_name\u001b[1;34m(self, name)\u001b[0m\n\u001b[0;32m    477\u001b[0m \u001b[38;5;28;01mdef\u001b[39;00m \u001b[38;5;21mget_experiment_by_name\u001b[39m(\u001b[38;5;28mself\u001b[39m, name: \u001b[38;5;28mstr\u001b[39m) \u001b[38;5;241m-\u001b[39m\u001b[38;5;241m>\u001b[39m Optional[Experiment]:\n\u001b[0;32m    478\u001b[0m \u001b[38;5;250m    \u001b[39m\u001b[38;5;124;03m\"\"\"\u001b[39;00m\n\u001b[0;32m    479\u001b[0m \u001b[38;5;124;03m    Retrieve an experiment by experiment name from the backend store\u001b[39;00m\n\u001b[0;32m    480\u001b[0m \n\u001b[1;32m   (...)\u001b[0m\n\u001b[0;32m    506\u001b[0m \u001b[38;5;124;03m        Lifecycle_stage: active\u001b[39;00m\n\u001b[0;32m    507\u001b[0m \u001b[38;5;124;03m    \"\"\"\u001b[39;00m\n\u001b[1;32m--> 508\u001b[0m     \u001b[38;5;28;01mreturn\u001b[39;00m \u001b[38;5;28;43mself\u001b[39;49m\u001b[38;5;241;43m.\u001b[39;49m\u001b[43m_tracking_client\u001b[49m\u001b[38;5;241;43m.\u001b[39;49m\u001b[43mget_experiment_by_name\u001b[49m\u001b[43m(\u001b[49m\u001b[43mname\u001b[49m\u001b[43m)\u001b[49m\n",
      "File \u001b[1;32m~\\anaconda3\\envs\\mlops\\lib\\site-packages\\mlflow\\tracking\\_tracking_service\\client.py:220\u001b[0m, in \u001b[0;36mTrackingServiceClient.get_experiment_by_name\u001b[1;34m(self, name)\u001b[0m\n\u001b[0;32m    215\u001b[0m \u001b[38;5;28;01mdef\u001b[39;00m \u001b[38;5;21mget_experiment_by_name\u001b[39m(\u001b[38;5;28mself\u001b[39m, name):\n\u001b[0;32m    216\u001b[0m \u001b[38;5;250m    \u001b[39m\u001b[38;5;124;03m\"\"\"\u001b[39;00m\n\u001b[0;32m    217\u001b[0m \u001b[38;5;124;03m    :param name: The experiment name.\u001b[39;00m\n\u001b[0;32m    218\u001b[0m \u001b[38;5;124;03m    :return: :py:class:`mlflow.entities.Experiment`\u001b[39;00m\n\u001b[0;32m    219\u001b[0m \u001b[38;5;124;03m    \"\"\"\u001b[39;00m\n\u001b[1;32m--> 220\u001b[0m     \u001b[38;5;28;01mreturn\u001b[39;00m \u001b[38;5;28;43mself\u001b[39;49m\u001b[38;5;241;43m.\u001b[39;49m\u001b[43mstore\u001b[49m\u001b[38;5;241;43m.\u001b[39;49m\u001b[43mget_experiment_by_name\u001b[49m\u001b[43m(\u001b[49m\u001b[43mname\u001b[49m\u001b[43m)\u001b[49m\n",
      "File \u001b[1;32m~\\anaconda3\\envs\\mlops\\lib\\site-packages\\mlflow\\store\\tracking\\rest_store.py:306\u001b[0m, in \u001b[0;36mRestStore.get_experiment_by_name\u001b[1;34m(self, experiment_name)\u001b[0m\n\u001b[0;32m    304\u001b[0m \u001b[38;5;28;01mtry\u001b[39;00m:\n\u001b[0;32m    305\u001b[0m     req_body \u001b[38;5;241m=\u001b[39m message_to_json(GetExperimentByName(experiment_name\u001b[38;5;241m=\u001b[39mexperiment_name))\n\u001b[1;32m--> 306\u001b[0m     response_proto \u001b[38;5;241m=\u001b[39m \u001b[38;5;28;43mself\u001b[39;49m\u001b[38;5;241;43m.\u001b[39;49m\u001b[43m_call_endpoint\u001b[49m\u001b[43m(\u001b[49m\u001b[43mGetExperimentByName\u001b[49m\u001b[43m,\u001b[49m\u001b[43m \u001b[49m\u001b[43mreq_body\u001b[49m\u001b[43m)\u001b[49m\n\u001b[0;32m    307\u001b[0m     \u001b[38;5;28;01mreturn\u001b[39;00m Experiment\u001b[38;5;241m.\u001b[39mfrom_proto(response_proto\u001b[38;5;241m.\u001b[39mexperiment)\n\u001b[0;32m    308\u001b[0m \u001b[38;5;28;01mexcept\u001b[39;00m MlflowException \u001b[38;5;28;01mas\u001b[39;00m e:\n",
      "File \u001b[1;32m~\\anaconda3\\envs\\mlops\\lib\\site-packages\\mlflow\\store\\tracking\\rest_store.py:59\u001b[0m, in \u001b[0;36mRestStore._call_endpoint\u001b[1;34m(self, api, json_body)\u001b[0m\n\u001b[0;32m     57\u001b[0m endpoint, method \u001b[38;5;241m=\u001b[39m _METHOD_TO_INFO[api]\n\u001b[0;32m     58\u001b[0m response_proto \u001b[38;5;241m=\u001b[39m api\u001b[38;5;241m.\u001b[39mResponse()\n\u001b[1;32m---> 59\u001b[0m \u001b[38;5;28;01mreturn\u001b[39;00m \u001b[43mcall_endpoint\u001b[49m\u001b[43m(\u001b[49m\u001b[38;5;28;43mself\u001b[39;49m\u001b[38;5;241;43m.\u001b[39;49m\u001b[43mget_host_creds\u001b[49m\u001b[43m(\u001b[49m\u001b[43m)\u001b[49m\u001b[43m,\u001b[49m\u001b[43m \u001b[49m\u001b[43mendpoint\u001b[49m\u001b[43m,\u001b[49m\u001b[43m \u001b[49m\u001b[43mmethod\u001b[49m\u001b[43m,\u001b[49m\u001b[43m \u001b[49m\u001b[43mjson_body\u001b[49m\u001b[43m,\u001b[49m\u001b[43m \u001b[49m\u001b[43mresponse_proto\u001b[49m\u001b[43m)\u001b[49m\n",
      "File \u001b[1;32m~\\anaconda3\\envs\\mlops\\lib\\site-packages\\mlflow\\utils\\rest_utils.py:202\u001b[0m, in \u001b[0;36mcall_endpoint\u001b[1;34m(host_creds, endpoint, method, json_body, response_proto, extra_headers)\u001b[0m\n\u001b[0;32m    200\u001b[0m     call_kwargs[\u001b[38;5;124m\"\u001b[39m\u001b[38;5;124mjson\u001b[39m\u001b[38;5;124m\"\u001b[39m] \u001b[38;5;241m=\u001b[39m json_body\n\u001b[0;32m    201\u001b[0m     response \u001b[38;5;241m=\u001b[39m http_request(\u001b[38;5;241m*\u001b[39m\u001b[38;5;241m*\u001b[39mcall_kwargs)\n\u001b[1;32m--> 202\u001b[0m response \u001b[38;5;241m=\u001b[39m \u001b[43mverify_rest_response\u001b[49m\u001b[43m(\u001b[49m\u001b[43mresponse\u001b[49m\u001b[43m,\u001b[49m\u001b[43m \u001b[49m\u001b[43mendpoint\u001b[49m\u001b[43m)\u001b[49m\n\u001b[0;32m    203\u001b[0m js_dict \u001b[38;5;241m=\u001b[39m json\u001b[38;5;241m.\u001b[39mloads(response\u001b[38;5;241m.\u001b[39mtext)\n\u001b[0;32m    204\u001b[0m parse_dict(js_dict\u001b[38;5;241m=\u001b[39mjs_dict, message\u001b[38;5;241m=\u001b[39mresponse_proto)\n",
      "File \u001b[1;32m~\\anaconda3\\envs\\mlops\\lib\\site-packages\\mlflow\\utils\\rest_utils.py:140\u001b[0m, in \u001b[0;36mverify_rest_response\u001b[1;34m(response, endpoint)\u001b[0m\n\u001b[0;32m    135\u001b[0m     \u001b[38;5;28;01melse\u001b[39;00m:\n\u001b[0;32m    136\u001b[0m         base_msg \u001b[38;5;241m=\u001b[39m (\n\u001b[0;32m    137\u001b[0m             \u001b[38;5;124mf\u001b[39m\u001b[38;5;124m\"\u001b[39m\u001b[38;5;124mAPI request to endpoint \u001b[39m\u001b[38;5;132;01m{\u001b[39;00mendpoint\u001b[38;5;132;01m}\u001b[39;00m\u001b[38;5;124m \u001b[39m\u001b[38;5;124m\"\u001b[39m\n\u001b[0;32m    138\u001b[0m             \u001b[38;5;124mf\u001b[39m\u001b[38;5;124m\"\u001b[39m\u001b[38;5;124mfailed with error code \u001b[39m\u001b[38;5;132;01m{\u001b[39;00mresponse\u001b[38;5;241m.\u001b[39mstatus_code\u001b[38;5;132;01m}\u001b[39;00m\u001b[38;5;124m != 200\u001b[39m\u001b[38;5;124m\"\u001b[39m\n\u001b[0;32m    139\u001b[0m         )\n\u001b[1;32m--> 140\u001b[0m         \u001b[38;5;28;01mraise\u001b[39;00m MlflowException(\n\u001b[0;32m    141\u001b[0m             \u001b[38;5;124mf\u001b[39m\u001b[38;5;124m\"\u001b[39m\u001b[38;5;132;01m{\u001b[39;00mbase_msg\u001b[38;5;132;01m}\u001b[39;00m\u001b[38;5;124m. Response body: \u001b[39m\u001b[38;5;124m'\u001b[39m\u001b[38;5;132;01m{\u001b[39;00mresponse\u001b[38;5;241m.\u001b[39mtext\u001b[38;5;132;01m}\u001b[39;00m\u001b[38;5;124m'\u001b[39m\u001b[38;5;124m\"\u001b[39m,\n\u001b[0;32m    142\u001b[0m             error_code\u001b[38;5;241m=\u001b[39mget_error_code(response\u001b[38;5;241m.\u001b[39mstatus_code),\n\u001b[0;32m    143\u001b[0m         )\n\u001b[0;32m    145\u001b[0m \u001b[38;5;66;03m# Skip validation for endpoints (e.g. DBFS file-download API) which may return a non-JSON\u001b[39;00m\n\u001b[0;32m    146\u001b[0m \u001b[38;5;66;03m# response\u001b[39;00m\n\u001b[0;32m    147\u001b[0m \u001b[38;5;28;01mif\u001b[39;00m endpoint\u001b[38;5;241m.\u001b[39mstartswith(_REST_API_PATH_PREFIX) \u001b[38;5;129;01mand\u001b[39;00m \u001b[38;5;129;01mnot\u001b[39;00m _can_parse_as_json_object(response\u001b[38;5;241m.\u001b[39mtext):\n",
      "\u001b[1;31mMlflowException\u001b[0m: API request to endpoint /api/2.0/mlflow/experiments/get-by-name failed with error code 404 != 200. Response body: '<!DOCTYPE html>\n<html lang=\"en-US\">\n  <head data-suburl=\"\">\n    <meta http-equiv=\"Content-Type\" content=\"text/html; charset=UTF-8\"/>\n    <meta http-equiv=\"X-UA-Compatible\" content=\"IE=edge\"/>\n    \n    \n      <meta name=\"viewport\" content=\"width=device-width, initial-scale=1\"/>\n    \n    <meta name=\"referrer\" content=\"no-referrer\"/>\n    <meta name=\"_csrf\" content=\"s3GJiF5XZB4PRQuUAreaVr_i3p86MTY5Njg0NjQ4MDY2ODU3MDQzNQ\"/>\n    <meta name=\"_suburl\" content=\"\"/>\n    <meta name=\"_appversion\" content=\"f971559b78f32c7f36fca73f367b6f82c1d84d10\" />\n    <meta name=\"_bareRepo\" content=\"\"/>\n\n    \n    \n  <script>(function(w, d, s, l, i) {\n      w[l] = w[l] || [];\n      w[l].push({\n        'gtm.start':\n          new Date().getTime(), event: 'gtm.js'\n      });\n      var f = d.getElementsByTagName(s)[0],\n        j = d.createElement(s),\n        dl = l != 'dataLayer' ? '&l=' + l : '';\n      j.async = true;\n      j.src =\n        'https://www.googletagmanager.com/gtm.js?id=' + i + dl;\n      f.parentNode.insertBefore(j, f);\n    })(window, document, 'script', 'dataLayer', 'GTM-PGHTMDN');</script>\n\n    \n\n    \n    \n      \n    \n    \n  \n    <title>Page Not Found · DAGsHub</title>\n    <meta name=\"description\"\n          content=\"DagsHub is where people create data science projects. Use DagsHub to discover, reproduce and contribute to your favorite data science projects.\"/>\n  \n  \n  <meta property=\"og:url\" content=\"https://dagshub.com/\"/>\n  <meta property=\"og:type\" content=\"website\"/>\n  <meta property=\"og:site_name\" content=\"DagsHub\">\n  <meta property=\"og:title\" content=\"The home for data science collaboration\">\n  <meta property=\"og:description\"\n        content=\"DagsHub is where people create data science projects. Use DagsHub to discover, reproduce and contribute to your favorite data science projects.\">\n  <meta property=\"og:image\" content=\"https://dagshub.com/img/open_graph/dagshub-logo.png\"/>\n  <meta property=\"og:image:type\" content=\"image/png\">\n  <meta property=\"og:image:width\" content=\"1200\">\n  <meta property=\"og:image:height\" content=\"1200\">\n  <meta property=\"og:image\" content=\"https://dagshub.com/img/open_graph/dagshub-mark.png\">\n  <meta property=\"og:image:type\" content=\"image/png\">\n  <meta property=\"og:image:width\" content=\"1200\">\n  <meta property=\"og:image:height\" content=\"620\">\n  <meta property=\"og:image\" content=\"https://dagshub.com/img/open_graph/dagshub-dags.png\">\n  <meta property=\"og:image:type\" content=\"image/png\">\n  <meta property=\"og:image:width\" content=\"1200\">\n  <meta property=\"og:image:height\" content=\"620\">\n  \n  <meta property=\"twitter:site\" content=\"@TheRealDagsHub\">\n  <meta property=\"twitter:creator\" content=\"@TheRealDagsHub\">\n  <meta property=\"twitter:card\" content=\"summary_large_image\">\n  <meta property=\"twitter:title\" content=\"DagsHub\">\n  <meta property=\"twitter:description\"\n        content=\"DagsHub is where people create data science projects. Use DagsHub to discover, reproduce and contribute to your favorite data science projects.\">\n  <meta property=\"twitter:image:src\" content=\"https://dagshub.com/img/open_graph/dagshub-logo.png\">\n  <meta property=\"twitter:image:width\" content=\"1200\">\n  <meta property=\"twitter:image:height\" content=\"1200\">\n\n  <script type=\"application/ld+json\">\n    {\n        \"@context\": \"http://schema.org\",\n        \"@type\": \"WebSite\",\n        \"name\": \"DagsHub\",\n        \"url\": \"https://dagshub.com/\",\n        \"sameAs\": [\n            \"https://www.facebook.com/DagsHub/\",\n            \"https://twitter.com/TheRealDagsHub/\",\n            \"https://linkedin.com/company/dagshub/\"\n        ],\n        \"potentialAction\": {\n        \"@type\": \"SearchAction\",\n        \"description\": \"Search for data science projects on DagsHub.\",\n        \"target\": \"https://dagshub.com/explore/repos?q={search_term}\",\n        \"query-input\": \"required name=search_term\"\n        }\n    }\n  </script>\n\n\n    \n\n    <link rel=\"shortcut icon\" href=\"/img/favicon-black.svg\"/>\n\n    <script src=\"/js/jquery-3.6.0.min.js\"></script>\n    \n  <link rel=\"stylesheet\" href=\"https://cdnjs.cloudflare.com/ajax/libs/font-awesome/5.15.3/css/all.css\"\n        integrity=\"sha512-3icgkoIO5qm2D4bGSUkPqeQ96LS8+ukJC7Eqhl1H5B2OJMEnFqLmNDxXVmtV/eq5M65tTDkUYS/Q0P4gvZv+yA==\"\n        crossorigin=\"anonymous\"\n        referrerpolicy=\"no-referrer\" />\n\n\n    <link rel=\"stylesheet\" href=\"/assets/octicons-4.3.0/octicons.min.css\">\n\n    \n    \n\n    \n\n    \n\n    \n\n    \n\n    \n\n    \n\n    \n\n    \n    \n    <link rel=\"preload\" href=\"/css/themes/default/assets/fonts/brand-icons.woff2\" as=\"font\"\n          type=\"font/woff2\" crossorigin/>\n    <link rel=\"preload\" href=\"/css/themes/default/assets/fonts/icons.woff2\" as=\"font\" type=\"font/woff2\"\n          crossorigin/>\n    <link rel=\"preload\" href=\"/assets/fontawesome-5.15.3/webfonts/fa-solid-900.woff2\" as=\"font\"\n          type=\"font/woff2\" crossorigin/>\n\n    \n    <link rel=\"stylesheet\" href=\"/css/semantic-2.4.2.min.css\">\n\n    \n    <link rel=\"stylesheet\" href=\"/css/build/dagshub.css?v=f971559b78f32c7f36fca73f367b6f82c1d84d10\">\n    <link rel=\"stylesheet\" href=\"/css/gogs.css?v=f971559b78f32c7f36fca73f367b6f82c1d84d10\">\n\n    \n    <link rel=\"preconnect\" href=\"https://fonts.googleapis.com\">\n    <link rel=\"preconnect\" href=\"https://fonts.gstatic.com\" crossorigin>\n    <link href=\"https://fonts.googleapis.com/css?family=Comfortaa|Lato:300,400,700,900|Jaldi|Open+Sans&display=swap\" rel=\"stylesheet\">\n\n    <noscript>\n      <style>\n        .dropdown:hover > .menu {\n          display: block;\n        }\n\n        .ui.secondary.menu .dropdown.item > .menu {\n          margin-top: 0;\n        }\n      </style>\n    </noscript>\n    <script src=\"/js/semantic-2.4.2.min.js\"></script>\n\n    \n    \n      <link rel=\"stylesheet\" href=\"/css/build/static_dagshub.css?v=f971559b78f32c7f36fca73f367b6f82c1d84d10\">\n      <link href=\"https://fonts.googleapis.com/css2?family=Inter:wght@300;400;500;600;700;900&display=swap\" rel=\"stylesheet\">\n      <link href='https://fonts.googleapis.com/css?family=Fira Code:wght@300;400;500;600;700;900' rel='stylesheet'>\n    \n\n    <meta name=\"theme-color\" content=\"#103037\">\n\n    \n  <script src=\"https://www.google.com/recaptcha/api.js\" async defer></script>\n\n\n\n    \n  </head>\n  <body>\n\n    \n\n\n\n  <noscript>\n    <iframe src=\"https://www.googletagmanager.com/ns.html?id=GTM-PGHTMDN\"\n            height=\"0\" width=\"0\" style=\"display:none;visibility:hidden\"></iframe>\n  </noscript>\n\n\n\n\n<div class=\"ui tiny modal\" id=\"contact-modal\">\n  <i class=\"close icon\"></i>\n  <div class=\"header\">\n    Contact us\n  </div>\n  <form id=\"contact-form\" class=\"ui form content\" action=\"contact_form\" method=\"post\">\n    <input type=\"hidden\" name=\"_csrf\" value=\"s3GJiF5XZB4PRQuUAreaVr_i3p86MTY5Njg0NjQ4MDY2ODU3MDQzNQ\">\n    <div class=\"required field\">\n      <label for=\"user_name\">Your email address</label>\n      <input name=\"email\" type=\"email\" value=\"\"\n             placeholder=\"tony@stark-industries.com\" required>\n    </div>\n    <div class=\"required field\">\n      <label for=\"subject\">Subject</label>\n      <input name=\"subject\" value=\"Hi DagsHub, let's talk\" placeholder=\"What would you like to talk about?\" required>\n    </div>\n    <div class=\"required field\">\n      <textarea class=\"autosize\" name=\"body\" rows=\"7\" ></textarea>\n    </div>\n    \n      <script type=\"text/javascript\">\n        var myRecaptchaListeners = {\n          callAllListeners: function(listeners) {\n            return () => listeners.forEach((f) => f());\n          },\n          successListeners: [],\n          expireListeners: [],\n        };\n        contactFormCaptchaCallback = myRecaptchaListeners.callAllListeners(myRecaptchaListeners.successListeners);\n        contactFormCaptchaExpired = myRecaptchaListeners.callAllListeners(myRecaptchaListeners.expireListeners);\n      </script>\n      <div class=\"g-recaptcha field\"\n           data-sitekey=\"6Lf0Z7gUAAAAAKCsW1V-PqN58BcBNAUxe-oIU3nw\"\n           data-callback=\"contactFormCaptchaCallback\"\n           data-expired-callback=\"contactFormCaptchaExpired\"></div>\n    \n    <input type=\"hidden\" name=\"page\"/>\n    <input type=\"hidden\" name=\"referring_page\"/>\n    <input type=\"hidden\" name=\"referrer\"/>\n    <button class=\"ui positive center aligned labeled icon button\" id=\"send-contact-request-btn\">\n      Send\n      <i class=\"checkmark icon\"></i>\n    </button>\n    \n      <script type=\"text/javascript\">\n        (function() {\n          const submitBtn = document.getElementById('send-contact-request-btn');\n          onExpire = () => submitBtn.style.display = 'none';\n          onExpire();\n          myRecaptchaListeners.successListeners.push(() => {\n            submitBtn.style.display = 'block';\n          });\n          myRecaptchaListeners.expireListeners.push(onExpire);\n        })();\n      </script>\n    \n    <div class=\"ui hidden dimmer inverted\">\n      <div class=\"ui loader\"></div>\n      <div class=\"ui hidden positive message\">\n        <p>Thank you! We'll be in touch ASAP.</p>\n      </div>\n      <div class=\"ui hidden negative message\">\n        <p>Something went wrong, please try again or contact us directly at <a\n                  href=\"mailto:contact@dagshub.com\">contact@dagshub.com</a></p>\n      </div>\n    </div>\n  </form>\n  <script>\n    (function() {\n      const $contactModal = $('#contact-modal');\n      const $contactForm = $('#contact-form');\n      const $dimmer = $contactForm.find('.dimmer');\n      const $loader = $dimmer.find('.loader');\n      const $okMsg = $dimmer.find('.positive');\n      const $errorMsg = $dimmer.find('.negative');\n\n      $contactForm.find('input[name=page]').val(document.URL);\n      $contactForm.find('input[name=referring_page]').val(new URL(document.URL).searchParams.get('referring_page'));\n      $contactForm.find('input[name=referrer]').val(document.referrer);\n\n      \n      $contactModal.modal({\n        onShow: () => {\n          $dimmer.dimmer('hide');\n          $loader.transition('fade in', 0);\n          $okMsg.transition('fade out', 0);\n          $errorMsg.transition('fade out', 0);\n        }\n      });\n\n      $contactForm.submit((e) => {\n        e.preventDefault();\n\n        $dimmer.dimmer('show');\n\n        function hideModal() {\n          setTimeout(() => {\n            $contactModal.modal('hide');\n          }, 3000);\n        }\n\n        \n        const loaderToMessage = function(targetMsg = $okMsg, afterMsg = hideModal) {\n          $loader.transition('fade out');\n          targetMsg.transition('fade in');\n          if (afterMsg) afterMsg();\n        };\n\n        $.ajax({\n          url: $contactForm.attr('action'),\n          method: 'post',\n          data: $contactForm.serialize(),\n          success: () => loaderToMessage(),\n          error: e => {\n            console.error(e);\n            \n            loaderToMessage($errorMsg, null);\n          }\n        });\n        \n        \n        \n        \n      });\n    })();\n  </script>\n  <div class=\"ui secondary segment\">\n    Or if you want, you can join our community at <a href=\"https://discord.com/invite/9gU36Y6\"\n                                                     class=\"ui basic discord icon\"><i class=\"discord grey icon big\"></i></a>\n  </div>\n</div>\n\n\n\n    \n      \n\n<div class=\"mobile dagshub-navbar\">\n    <div class=\"line-divider\"></div>\n\n\n\n\n  \n    \n      <div class=\"primary center button\" style=\"margin-bottom: 10px;\">\n        <a  id=\"sign-up-navbar-mobile\" data-analytics-event=\"Navbar_Register_Clicked\"\n            href=\"/user/sign_up?redirect_to=%2frihemmanel54%2fMlops_Car_Price_Prediction%2fapi%2f2.0%2fmlflow%2fexperiments%2fget-by-name\n\n\">\n          Register\n        </a>\n      </div>\n    \n      <div class=\"secondary center button\">\n        <a id=\"sign-in-navbar-mobile\" data-analytics-event=\"Navbar_Login_Clicked\"\n           href=\"/user/login?redirect_to=%2frihemmanel54%2fMlops_Car_Price_Prediction%2fapi%2f2.0%2fmlflow%2fexperiments%2fget-by-name\n\n\">\n          Login\n        </a>\n      </div>\n  \n  <div class=\"line-divider\"></div>\n  \n  \n    <div class=\"subtitle\">Resources</div>\n    <a class=\"navbar-item\"\n       href=\"/docs\" onclick=\"trackAnalyticsEvent('Resources_Docs_Clicked')\">Docs</a>\n    <a class=\"navbar-item\" href=\"/blog\" onclick=\"trackAnalyticsEvent('Resources_Blog_Clicked')\">Blog</a>\n    <a class=\"navbar-item\" data-analytics-event=\"Resources_Datasets_Clicked\" href=\"/datasets\">Datasets</a>\n    <a class=\"navbar-item\" data-analytics-event=\"Resources_Glossary_Clicked\" href=\"/glossary\">Glossary</a>\n    \n      <div class=\"line-divider\"></div>\n      <div class=\"subtitle\">Product</div>\n      <a class=\"navbar-item\" tabindex=\"0\" href=\"/data-engine\">Data Engine</a>\n      <a class=\"navbar-item\" tabindex=\"0\" href=\"/product\">Platform</a>\n      <a class=\"navbar-item\" tabindex=\"0\" href=\"/enterprise\">Enterprise</a>\n    \n    <div class=\"line-divider\"></div>\n    <a class=\"navbar-item\" href=\"/pricing\">Pricing</a>\n  \n  <a class=\"navbar-item\" href=\"/explore/repos\">Explore</a>\n  <div class=\"line-divider\"></div>\n  <a class=\"navbar-item\" href=\"https://discord.com/invite/9gU36Y6\" onclick=\"trackAnalyticsEvent('DiscordIcon_Clicked')\">\n    <img src=\"/assets/social_icons/discord.svg\" aria-label=\"Connect to our Discord channel\">\n    <span>Connect to our Discord channel</span>\n  </a>\n    \n</div>\n<div class=\"pusher\">\n<div class=\"ui full height\">\n  <noscript>This website works better with JavaScript</noscript>\n  \n    <div class=\" navbar-container\">\n      <div id=\"menu-container\" class=\"dagshub-navbar \">\n        <div class=\"left-menu\">\n          <div class=\"fixed-content\">\n            <a href=\"https://dagshub.com/\" tabindex=\"0\">\n              \n              <img width=\"34\" height=\"30\" alt=\"DagsHub navbar logo\" aria-label=\"DagsHub Home\" class=\"navbar-logo\"\n                   src=\"/img/favicon.svg\">\n              \n            </a>\n            <form class=\"search-bar-container\" action=\"/explore/repos\">\n                <input class=\"search-bar\" name=\"q\" value=\"\" aria-label=\"Search public projects\"\n                       placeholder=\"Search public repositories...\" tabindex=\"0\" autocomplete=\"off\">\n            </form>\n          </div>\n          \n          \n            <div class=\"dropdown navbar-item\" tabindex=\"0\">\n              Resources &nbsp; <img class=\"flip\" src=\"/assets/chevron-icon.svg\">\n                <div class=\"submenu\">\n                  <a href=\"/docs\" tabindex=\"0\" onclick=\"trackAnalyticsEvent('Resources_Docs_Clicked')\">Docs</a>\n                  <a href=\"/blog\" tabindex=\"0\" onclick=\"trackAnalyticsEvent('Resources_Blog_Clicked')\">Blog</a>\n                  <a href=\"/datasets\" tabindex=\"0\" data-analytics-event=\"Resources_Datasets_Clicked\">Datasets</a>\n                  <a href=\"/glossary\" tabindex=\"0\" data-analytics-event=\"Resources_Glossary_Clicked\">Glossary</a>\n                </div>\n            </div>\n          \n          <a class=\"navbar-item\" tabindex=\"0\"\n             href=\"/explore/repos\" onclick=\"trackAnalyticsEvent('ExploreTab_Clicked')\">Explore</a>\n          \n            <a class=\"navbar-item\" tabindex=\"0\" href=\"/pricing\">Pricing</a>\n          \n          <div class=\"dropdown navbar-item\" tabindex=\"0\">\n            Product &nbsp; <img class=\"flip\" src=\"/assets/chevron-icon.svg\">\n            <div class=\"submenu\">\n              <a class=\"navbar-item\" tabindex=\"0\" href=\"/data-engine\">Data Engine</a>\n              <a class=\"navbar-item\" tabindex=\"0\" href=\"/product\">Platform</a>\n              <a class=\"navbar-item\" tabindex=\"0\" href=\"/enterprise\">Enterprise</a>\n            </div>\n          </div>\n          \n        \n        </div>\n        \n          <input type=\"checkbox\" id=\"menu-toggle\" style=\"display: none;\" tabindex=\"0\">\n          <label id=\"menu-toggle-label\" for=\"menu-toggle\"><img src=\"/assets/menu-open.svg\"></label>\n          <div id=\"menu-close-label\" style=\"display: none;\"><img src=\"/assets/x.svg\"></div>\n          <div id=\"menu-open-label\" style=\"display: none;\"><img src=\"/assets/menu-open.svg\"></div>\n        \n        <div class=\"right-menu\">\n            <a aria-label=\"join our discord\"\n               class=\"navbar-icon dagshub-tooltip\"\n               tabindex=\"0\"\n               href=\"https://discord.com/invite/9gU36Y6\" onclick=\"trackAnalyticsEvent('DiscordIcon_Clicked')\">\n              <img src=\"/assets/social_icons/discord.svg\" aria-label=\"Connect to our Discord channel\">\n              <span>Connect to Dagshub Discord channel</span>\n            </a>\n            \n              \n                <div class=\"primary button\">\n                  <a id=\"sign-up-navbar\" data-analytics-event=\"Navbar_Register_Clicked\"\n                     href=\"/user/sign_up?redirect_to=%2frihemmanel54%2fMlops_Car_Price_Prediction%2fapi%2f2.0%2fmlflow%2fexperiments%2fget-by-name\n\n\">\n                    Register\n                  </a>\n                </div>\n              \n              <a id=\"sign-in-navbar\" class=\"secondary button\"\n                 data-analytics-event=\"Navbar_Login_Clicked\"\n                 href=\"/user/login?redirect_to=%2frihemmanel54%2fMlops_Car_Price_Prediction%2fapi%2f2.0%2fmlflow%2fexperiments%2fget-by-name\n\n\">\n                Login\n              </a>\n            \n        </div>\n      </div>\n    </div>\n  \n\n    \n\n<div class=\"ui container center\">\n  <p style=\"margin-top: 100px\"><img src=\"/img/404.png\" alt=\"404\"/></p>\n  <div class=\"ui divider\"></div>\n  <br>\n  \n  <p>\n    If you think this is an error, please report it on our\n    <strong>\n      <a href=\"https://discord.com/invite/9gU36Y6\">Discord support channel <i class=\"discord icon\"></i></a>\n    </strong>\n  </p>\n    Or, contact us at <a href=\"mailto:support@dagshub.com\">support@dagshub.com</a>.</p>\n</div>\n\n\n</div>\n<footer>\n  <div class=\"ui footer\">\n      <div class=\"dagshub-footer\">\n          <a href=\"https://dagshub.com/\">\n            <img alt=\"footer DagsHub logo\" id=\"footer-logo\" class=\"ui centered image\" aria-label=\"Dagshub home\"\n                           src=\"/img/footerlogo.svg\">\n          </a>\n          <div id=\"footer-social\" class=\"\">\n            <a aria-label=\"DagsHub on Twitter\" class=\"icon-link\"\n               rel=\"nofollow\" target=\"_blank\"\n               href=\"https://twitter.com/TheRealDAGsHub\">\n              <i class=\"twitter large icon\"></i>\n            </a>\n            <a aria-label=\"DagsHub on YouTube\" class=\"icon-link\"\n               rel=\"nofollow\" target=\"_blank\"\n               href=\"https://youtube.com/c/dagshub\">\n              <i class=\"youtube large icon\"></i>\n            </a>\n            <a aria-label=\"DagsHub on LinkedIn\" class=\"icon-link\"\n               rel=\"nofollow\" target=\"_blank\"\n               href=\"https://www.linkedin.com/company/dagshub\">\n              <i class=\"linkedin large icon\"></i>\n            </a>\n            <a aria-label=\"join our Discord\" class=\"icon-link\"\n               rel=\"nofollow\" target=\"_blank\"\n               href=\"https://discord.com/invite/9gU36Y6\">\n              \n              <svg width=\"24\" height=\"19\" viewBox=\"0 0 24 19\" fill=\"none\" xmlns=\"http://www.w3.org/2000/svg\">\n                <path d=\"M20.2415 2.18566C18.7257 1.49015 17.1003 0.977731 15.4007 0.684245C15.3698 0.678581 15.3389 0.692736 15.3229 0.721047C15.1139 1.09286 14.8823 1.57791 14.7202 1.95916C12.8922 1.6855 11.0736 1.6855 9.28318 1.95916C9.12099 1.56944 8.88103 1.09286 8.67104 0.721047C8.6551 0.693681 8.62418 0.679525 8.59323 0.684245C6.89465 0.976793 5.26918 1.48921 3.75245 2.18566C3.73932 2.19133 3.72807 2.20077 3.7206 2.21303C0.637438 6.8192 -0.207169 11.3122 0.207167 15.7494C0.209041 15.7711 0.221228 15.7919 0.238101 15.8051C2.27228 17.2989 4.24273 18.2058 6.17659 18.807C6.20754 18.8164 6.24034 18.8051 6.26003 18.7796C6.71749 18.1549 7.12527 17.4962 7.4749 16.8035C7.49553 16.7629 7.47584 16.7148 7.43366 16.6988C6.78686 16.4534 6.17097 16.1542 5.57852 15.8145C5.53166 15.7872 5.52791 15.7201 5.57102 15.688C5.69569 15.5946 5.8204 15.4974 5.93944 15.3993C5.96098 15.3814 5.99099 15.3776 6.01631 15.3889C9.90842 17.1659 14.1221 17.1659 17.9683 15.3889C17.9936 15.3766 18.0236 15.3804 18.0461 15.3983C18.1652 15.4965 18.2898 15.5946 18.4154 15.688C18.4585 15.7201 18.4557 15.7872 18.4089 15.8145C17.8164 16.1608 17.2005 16.4534 16.5528 16.6978C16.5106 16.7139 16.4919 16.7629 16.5125 16.8035C16.8696 17.4952 17.2774 18.1539 17.7264 18.7787C17.7452 18.8051 17.7789 18.8164 17.8099 18.807C19.7531 18.2058 21.7235 17.2989 23.7577 15.8051C23.7755 15.7919 23.7868 15.7721 23.7887 15.7503C24.2845 10.6204 22.9581 6.16429 20.2724 2.21397C20.2659 2.20077 20.2546 2.19133 20.2415 2.18566ZM8.05612 13.0476C6.88433 13.0476 5.91881 11.9718 5.91881 10.6506C5.91881 9.32943 6.86561 8.25364 8.05612 8.25364C9.25598 8.25364 10.2122 9.33887 10.1934 10.6506C10.1934 11.9718 9.2466 13.0476 8.05612 13.0476ZM15.9585 13.0476C14.7867 13.0476 13.8212 11.9718 13.8212 10.6506C13.8212 9.32943 14.768 8.25364 15.9585 8.25364C17.1584 8.25364 18.1145 9.33887 18.0958 10.6506C18.0958 11.9718 17.1584 13.0476 15.9585 13.0476Z\"/>\n              </svg>\n            </a>\n          </div>\n        <div class=\"links\">\n          <a class=\"footer-item\" rel=\"noopener noreferrer\" href=\"/about\">Our Story</a>\n          <a class=\"footer-item\" rel=\"noopener noreferrer\" href=\"/careers\">Careers</a>\n              \n          <a id=\"merch-store\" class=\"footer-item\" rel=\"noopener noreferrer\"\n             href=\"https://teespring.com/stores/dagshub\">Merch</a>\n          <a class=\"footer-item\" id=\"contact-us-footer\" href=\"javascript:\">Contact Us</a>\n          <script>\n            (function() {\n              const $contactModal = $('#contact-modal');\n              const $contactForm = $contactModal.find('#contact-form');\n              $contactModal.modal('attach events', '#contact-us-footer', 'show');\n              $('#contact-us-footer').on('click', () => {\n                $contactForm.attr('action', 'contact_form');\n              });\n            })();\n          </script>\n              \n                <a class=\"footer-item\" rel=\"noopener noreferrer\" href=\"/enterprise\">Enterprise</a>\n                <a class=\"footer-item\" rel=\"noopener noreferrer\" href=\"/pricing\">Pricing</a>\n              \n        </div>\n          <h2>The home for data science collaboration</h2>\n          <div class=\"legal\">\n            <p>© Copyright Dagshub 2023</p>\n            <div class=\"\">\n              <a class=\"footer-item\" rel=\"noopener noreferrer\" href=\"/terms\">Terms of Service</a>\n              <a class=\"footer-item\" rel=\"noopener noreferrer\" href=\"/privacy\">Privacy Policy</a>\n            </div>\n          </div>\n\n        </div>\n\n      \n      \n      \n      \n      \n      \n      \n      \n      \n      \n      \n      \n\n\n  </div>\n</footer>\n\n\n</div>\n</body>\n\n\n\n\n\n\n\n\n\n\n\n<script src=\"/js/libs/emojify-1.1.0.min.js\"></script>\n<script src=\"/js/libs/clipboard-1.5.9.min.js\"></script>\n\n\n\n<script src=\"/js/gogs.js?v=f971559b78f32c7f36fca73f367b6f82c1d84d10\"></script>\n<script src=\"/js/dagshub.js?v=f971559b78f32c7f36fca73f367b6f82c1d84d10\"></script>\n\n\n\n\n\n\n\n\n\n\n  <script src=\"/js/integrations.js?v=f971559b78f32c7f36fca73f367b6f82c1d84d10\"></script>\n  <script src=\"/js/bare.js?v=f971559b78f32c7f36fca73f367b6f82c1d84d10\"></script>\n\n\n\n\n\n</html>\n\n\n'"
     ]
    }
   ],
   "source": [
    "import os\n",
    "os.environ['MLFLOW_TRACKING_USERNAME']= \"rihemmanel54\"\n",
    "os.environ[\"MLFLOW_TRACKING_PASSWORD\"] = \"3e93c19c879ea3562d4638daa2bab19d3eabb3c9\"\n",
    "\n",
    "#setup mlflow\n",
    "mlflow.set_tracking_uri('https://dagshub.com/rihemmanel54/Mlops_Car_Price_Prediction') #your mlfow tracking uri\n",
    "mlflow.set_experiment(\"Mlops_Car_Price_Prediction-experiment\")"
   ]
  },
  {
   "cell_type": "markdown",
   "id": "fe8be16a",
   "metadata": {},
   "source": [
    "# 2. charger des données"
   ]
  },
  {
   "cell_type": "code",
   "execution_count": null,
   "id": "9592d43c",
   "metadata": {},
   "outputs": [],
   "source": [
    "version = \"v1.0\"\n",
    "data_url = \"./Data csv/data_cleaned.csv\""
   ]
  },
  {
   "cell_type": "code",
   "execution_count": null,
   "id": "51b02fbb",
   "metadata": {},
   "outputs": [],
   "source": [
    "# Charger données\n",
    "data = pd.read_csv(data_url)\n",
    "# visualization des données\n",
    "data.head()"
   ]
  },
  {
   "cell_type": "code",
   "execution_count": null,
   "id": "90fa71b3",
   "metadata": {},
   "outputs": [],
   "source": [
    "data.info()"
   ]
  },
  {
   "cell_type": "markdown",
   "id": "b1873855",
   "metadata": {},
   "source": [
    "# 3.Explanation\n",
    "\n",
    "Pour créer un modèle de prédiction de prix de voiture, il faut suivre plusieurs étapes clés :\n",
    "\n",
    "    1. Séparation des données : Divisez vos données en ensembles d'apprentissage (pour former le modèle) et de test (pour évaluer sa performance). Une règle courante est de réserver environ 70-80 % des données pour l'apprentissage et le reste pour les tests.\n",
    "    \n",
    "    2. Choix du modèle : Il existe différents types de modèles de prédiction, tels que les régressions linéaires, les réseaux de neurones, les arbres de décision, etc. Sélectionnez le modèle qui convient le mieux à votre problème, en fonction de la nature de vos données et de vos objectifs.\n",
    "    \n",
    "    3. Entraînement du modèle : Utilisez l'ensemble d'apprentissage pour entraîner votre modèle. Le modèle apprendra à partir des données et ajustera ses paramètres pour minimiser l'erreur de prédiction.\n",
    "    \n",
    "    4.Validation et ajustement : Évaluez la performance de votre modèle en utilisant l'ensemble de test. Si les performances ne sont pas satisfaisantes, vous pouvez ajuster les hyperparamètres du modèle ou envisager d'utiliser un modèle différent."
   ]
  },
  {
   "cell_type": "markdown",
   "id": "28b4a64f",
   "metadata": {},
   "source": [
    "# 4. Séparation des données"
   ]
  },
  {
   "cell_type": "code",
   "execution_count": 7,
   "id": "a392cfd1",
   "metadata": {},
   "outputs": [],
   "source": [
    "X = data.drop(columns='selling_price', axis=1)\n",
    "Y = data['selling_price']"
   ]
  },
  {
   "cell_type": "code",
   "execution_count": 8,
   "id": "8010e59c",
   "metadata": {},
   "outputs": [
    {
     "data": {
      "text/html": [
       "<div>\n",
       "<style scoped>\n",
       "    .dataframe tbody tr th:only-of-type {\n",
       "        vertical-align: middle;\n",
       "    }\n",
       "\n",
       "    .dataframe tbody tr th {\n",
       "        vertical-align: top;\n",
       "    }\n",
       "\n",
       "    .dataframe thead th {\n",
       "        text-align: right;\n",
       "    }\n",
       "</style>\n",
       "<table border=\"1\" class=\"dataframe\">\n",
       "  <thead>\n",
       "    <tr style=\"text-align: right;\">\n",
       "      <th></th>\n",
       "      <th>year</th>\n",
       "      <th>km_driven</th>\n",
       "      <th>transmission</th>\n",
       "      <th>owner</th>\n",
       "      <th>engine</th>\n",
       "      <th>max_power</th>\n",
       "      <th>fuel_2</th>\n",
       "      <th>fuel_3</th>\n",
       "      <th>fuel_LPG</th>\n",
       "    </tr>\n",
       "  </thead>\n",
       "  <tbody>\n",
       "    <tr>\n",
       "      <th>0</th>\n",
       "      <td>2014.0</td>\n",
       "      <td>145500.0</td>\n",
       "      <td>2</td>\n",
       "      <td>0</td>\n",
       "      <td>1248.0</td>\n",
       "      <td>74.00</td>\n",
       "      <td>1</td>\n",
       "      <td>0</td>\n",
       "      <td>0</td>\n",
       "    </tr>\n",
       "    <tr>\n",
       "      <th>1</th>\n",
       "      <td>2014.0</td>\n",
       "      <td>120000.0</td>\n",
       "      <td>2</td>\n",
       "      <td>1</td>\n",
       "      <td>1498.0</td>\n",
       "      <td>103.52</td>\n",
       "      <td>1</td>\n",
       "      <td>0</td>\n",
       "      <td>0</td>\n",
       "    </tr>\n",
       "    <tr>\n",
       "      <th>2</th>\n",
       "      <td>2010.0</td>\n",
       "      <td>127000.0</td>\n",
       "      <td>2</td>\n",
       "      <td>0</td>\n",
       "      <td>1396.0</td>\n",
       "      <td>90.00</td>\n",
       "      <td>1</td>\n",
       "      <td>0</td>\n",
       "      <td>0</td>\n",
       "    </tr>\n",
       "    <tr>\n",
       "      <th>3</th>\n",
       "      <td>2017.0</td>\n",
       "      <td>45000.0</td>\n",
       "      <td>2</td>\n",
       "      <td>0</td>\n",
       "      <td>1197.0</td>\n",
       "      <td>81.86</td>\n",
       "      <td>0</td>\n",
       "      <td>1</td>\n",
       "      <td>0</td>\n",
       "    </tr>\n",
       "    <tr>\n",
       "      <th>4</th>\n",
       "      <td>2011.0</td>\n",
       "      <td>90000.0</td>\n",
       "      <td>2</td>\n",
       "      <td>0</td>\n",
       "      <td>1364.0</td>\n",
       "      <td>67.10</td>\n",
       "      <td>1</td>\n",
       "      <td>0</td>\n",
       "      <td>0</td>\n",
       "    </tr>\n",
       "    <tr>\n",
       "      <th>...</th>\n",
       "      <td>...</td>\n",
       "      <td>...</td>\n",
       "      <td>...</td>\n",
       "      <td>...</td>\n",
       "      <td>...</td>\n",
       "      <td>...</td>\n",
       "      <td>...</td>\n",
       "      <td>...</td>\n",
       "      <td>...</td>\n",
       "    </tr>\n",
       "    <tr>\n",
       "      <th>6470</th>\n",
       "      <td>2014.0</td>\n",
       "      <td>80000.0</td>\n",
       "      <td>2</td>\n",
       "      <td>1</td>\n",
       "      <td>1396.0</td>\n",
       "      <td>88.73</td>\n",
       "      <td>1</td>\n",
       "      <td>0</td>\n",
       "      <td>0</td>\n",
       "    </tr>\n",
       "    <tr>\n",
       "      <th>6471</th>\n",
       "      <td>2013.0</td>\n",
       "      <td>110000.0</td>\n",
       "      <td>2</td>\n",
       "      <td>0</td>\n",
       "      <td>1197.0</td>\n",
       "      <td>82.85</td>\n",
       "      <td>0</td>\n",
       "      <td>1</td>\n",
       "      <td>0</td>\n",
       "    </tr>\n",
       "    <tr>\n",
       "      <th>6472</th>\n",
       "      <td>2009.0</td>\n",
       "      <td>120000.0</td>\n",
       "      <td>2</td>\n",
       "      <td>0</td>\n",
       "      <td>1248.0</td>\n",
       "      <td>73.90</td>\n",
       "      <td>1</td>\n",
       "      <td>0</td>\n",
       "      <td>0</td>\n",
       "    </tr>\n",
       "    <tr>\n",
       "      <th>6473</th>\n",
       "      <td>2013.0</td>\n",
       "      <td>25000.0</td>\n",
       "      <td>2</td>\n",
       "      <td>0</td>\n",
       "      <td>1396.0</td>\n",
       "      <td>70.00</td>\n",
       "      <td>1</td>\n",
       "      <td>0</td>\n",
       "      <td>0</td>\n",
       "    </tr>\n",
       "    <tr>\n",
       "      <th>6474</th>\n",
       "      <td>2013.0</td>\n",
       "      <td>25000.0</td>\n",
       "      <td>2</td>\n",
       "      <td>0</td>\n",
       "      <td>1396.0</td>\n",
       "      <td>70.00</td>\n",
       "      <td>1</td>\n",
       "      <td>0</td>\n",
       "      <td>0</td>\n",
       "    </tr>\n",
       "  </tbody>\n",
       "</table>\n",
       "<p>6475 rows × 9 columns</p>\n",
       "</div>"
      ],
      "text/plain": [
       "        year  km_driven  transmission  owner  engine  max_power  fuel_2  \\\n",
       "0     2014.0   145500.0             2      0  1248.0      74.00       1   \n",
       "1     2014.0   120000.0             2      1  1498.0     103.52       1   \n",
       "2     2010.0   127000.0             2      0  1396.0      90.00       1   \n",
       "3     2017.0    45000.0             2      0  1197.0      81.86       0   \n",
       "4     2011.0    90000.0             2      0  1364.0      67.10       1   \n",
       "...      ...        ...           ...    ...     ...        ...     ...   \n",
       "6470  2014.0    80000.0             2      1  1396.0      88.73       1   \n",
       "6471  2013.0   110000.0             2      0  1197.0      82.85       0   \n",
       "6472  2009.0   120000.0             2      0  1248.0      73.90       1   \n",
       "6473  2013.0    25000.0             2      0  1396.0      70.00       1   \n",
       "6474  2013.0    25000.0             2      0  1396.0      70.00       1   \n",
       "\n",
       "      fuel_3  fuel_LPG  \n",
       "0          0         0  \n",
       "1          0         0  \n",
       "2          0         0  \n",
       "3          1         0  \n",
       "4          0         0  \n",
       "...      ...       ...  \n",
       "6470       0         0  \n",
       "6471       1         0  \n",
       "6472       0         0  \n",
       "6473       0         0  \n",
       "6474       0         0  \n",
       "\n",
       "[6475 rows x 9 columns]"
      ]
     },
     "execution_count": 8,
     "metadata": {},
     "output_type": "execute_result"
    }
   ],
   "source": [
    "X"
   ]
  },
  {
   "cell_type": "code",
   "execution_count": 9,
   "id": "8cc0e3c3",
   "metadata": {},
   "outputs": [
    {
     "data": {
      "text/plain": [
       "0       450000.0\n",
       "1       370000.0\n",
       "2       225000.0\n",
       "3       440000.0\n",
       "4       350000.0\n",
       "          ...   \n",
       "6470    475000.0\n",
       "6471    320000.0\n",
       "6472    382000.0\n",
       "6473    290000.0\n",
       "6474    290000.0\n",
       "Name: selling_price, Length: 6475, dtype: float64"
      ]
     },
     "execution_count": 9,
     "metadata": {},
     "output_type": "execute_result"
    }
   ],
   "source": [
    "Y"
   ]
  },
  {
   "cell_type": "markdown",
   "id": "93754a29",
   "metadata": {},
   "source": [
    "### b. Splitting the data into Training data & Test Data"
   ]
  },
  {
   "cell_type": "code",
   "execution_count": 10,
   "id": "a8f95fc2",
   "metadata": {},
   "outputs": [],
   "source": [
    "np.random.seed(42)\n",
    "\n",
    "X_train, X_test, Y_train, Y_test = train_test_split(X, Y, test_size=0.2, random_state=2)"
   ]
  },
  {
   "cell_type": "code",
   "execution_count": 11,
   "id": "2285eb50",
   "metadata": {},
   "outputs": [
    {
     "data": {
      "text/plain": [
       "((5180, 9), (1295, 9))"
      ]
     },
     "execution_count": 11,
     "metadata": {},
     "output_type": "execute_result"
    }
   ],
   "source": [
    "# Verifier X_train , X_test forme\n",
    "X_train.shape, X_test.shape"
   ]
  },
  {
   "cell_type": "code",
   "execution_count": 12,
   "id": "f7f5a0f4",
   "metadata": {},
   "outputs": [
    {
     "data": {
      "text/plain": [
       "((5180,), (1295,))"
      ]
     },
     "execution_count": 12,
     "metadata": {},
     "output_type": "execute_result"
    }
   ],
   "source": [
    "# Verifier Y_train , Y_test forme\n",
    "Y_train.shape, Y_test.shape"
   ]
  },
  {
   "cell_type": "markdown",
   "id": "ef520aae",
   "metadata": {},
   "source": [
    "# 5. Choix du modèle\n",
    "\n",
    "Maintenant que nos données sont réparties entre les ensembles d'entraînement et de test, il est temps de construire un modèle d'apprentissage automatique.\n",
    "\n",
    "nous allons l'entraîner (trouver les modèles) sur l'ensemble d'apprentissage\n",
    "\n",
    "Et nous allons le tester (utiliser les modèles) sur l'ensemble de test.\n",
    "\n",
    "Nous allons choisir l'un des trois modèles d'apprentissage automatique suivants :\n",
    "\n",
    "1. Linear Regression\n",
    "2. Decision Tree Regressor\n",
    "3. Random Forest Regressor\n",
    "4. Gradient Boosting Regression"
   ]
  },
  {
   "cell_type": "code",
   "execution_count": 31,
   "id": "584be04d",
   "metadata": {},
   "outputs": [],
   "source": [
    "# Put models in a dictionnary\n",
    "models = {\"Linear Regression\": LinearRegression(),\n",
    "         \"Decision Tree Regressor\": DecisionTreeRegressor(),\n",
    "         \"Random Forest Regressor\": RandomForestRegressor(),\n",
    "         \"Gradient Boosting Regression\": }\n",
    "\n",
    "\n",
    "# Create a function to fit and score models\n",
    "def fit_and_score(models, X_train, X_test, Y_train, Y_test):\n",
    "    \"\"\"\n",
    "    Fits and evaluates given machine learning models\n",
    "    models: a dict of different Scikit-Learn machine learning models\n",
    "    X_train: training data (no labels)\n",
    "    X_test: testing data (no labels)\n",
    "    Y_train : training labels\n",
    "    Y_test : test labels\n",
    "    \"\"\"\n",
    "    # Set random seed\n",
    "    np.random.seed(42)\n",
    "    #Make a dictionary to keep models scores\n",
    "    model_scores = {}\n",
    "    # loop through Models\n",
    "    for name, model in models.items():\n",
    "        \n",
    "        model.fit(X_train, Y_train)\n",
    "        # Evaluate the model and append its score to model_scores\n",
    "        model_scores[name] = model.score(X_test, Y_test)\n",
    "    return model_scores"
   ]
  },
  {
   "cell_type": "code",
   "execution_count": 32,
   "id": "9130a107",
   "metadata": {},
   "outputs": [
    {
     "name": "stdout",
     "output_type": "stream",
     "text": [
      "{'Linear Regression': 0.7363909066368064, 'Decision Tree Regressor': 0.8048905148356102, 'Random Forest Regressor': 0.8824267577860848}\n"
     ]
    },
    {
     "data": {
      "text/plain": [
       "<Axes: >"
      ]
     },
     "execution_count": 32,
     "metadata": {},
     "output_type": "execute_result"
    },
    {
     "data": {
      "image/png": "[encoded data removed]",
      "text/plain": [
       "<Figure size 432x288 with 1 Axes>"
      ]
     },
     "metadata": {
      "needs_background": "light"
     },
     "output_type": "display_data"
    }
   ],
   "source": [
    "print(fit_and_score(models, X_train, X_test, Y_train, Y_test))\n",
    "model_compare = pd.DataFrame(fit_and_score(models, X_train, X_test, Y_train, Y_test), index=[\"accuracy\"])\n",
    "model_compare.plot.bar()"
   ]
  },
  {
   "cell_type": "markdown",
   "id": "8ce4b6ae",
   "metadata": {},
   "source": [
    "# 6. Feature Scaling"
   ]
  },
  {
   "cell_type": "code",
   "execution_count": 33,
   "id": "f6ffa336",
   "metadata": {},
   "outputs": [
    {
     "data": {
      "text/plain": [
       "array([[ 1.16591877e+00, -1.04064318e+00, -3.76704338e+00,\n",
       "        -6.43848689e-01, -3.89447874e-01, -5.76348029e-02,\n",
       "        -1.03858157e+00,  1.06422030e+00, -6.06750120e-02],\n",
       "       [ 1.16591877e+00, -1.16758995e+00,  2.65460176e-01,\n",
       "        -6.43848689e-01,  3.36856102e-01,  7.08048762e-01,\n",
       "         9.62851667e-01, -9.39655072e-01, -6.06750120e-02],\n",
       "       [-4.26849632e-01,  1.01877812e-01,  2.65460176e-01,\n",
       "         9.59582180e-01, -3.84621934e-01, -1.67785772e-01,\n",
       "        -1.03858157e+00,  1.06422030e+00, -6.06750120e-02],\n",
       "       [ 5.28811408e-01, -1.19297931e+00,  2.65460176e-01,\n",
       "        -6.43848689e-01, -1.31361539e+00, -1.25138473e+00,\n",
       "        -1.03858157e+00,  1.06422030e+00, -6.06750120e-02],\n",
       "       [ 8.47365088e-01, -7.86749623e-01,  2.65460176e-01,\n",
       "         2.56301305e+00,  5.39545584e-01,  1.92776925e+00,\n",
       "         9.62851667e-01, -9.39655072e-01, -6.06750120e-02],\n",
       "       [ 8.47365088e-01, -1.52015741e-01,  2.65460176e-01,\n",
       "        -6.43848689e-01, -2.66386403e-01,  2.39683260e-01,\n",
       "         9.62851667e-01, -9.39655072e-01, -6.06750120e-02],\n",
       "       [ 1.48447245e+00, -1.57381964e+00,  2.65460176e-01,\n",
       "        -6.43848689e-01, -3.89447874e-01, -5.76348029e-02,\n",
       "        -1.03858157e+00,  1.06422030e+00, -6.06750120e-02],\n",
       "       [ 1.16591877e+00, -1.54261612e+00,  2.65460176e-01,\n",
       "        -6.43848689e-01,  3.32030162e-01,  1.00088914e+00,\n",
       "        -1.03858157e+00,  1.06422030e+00, -6.06750120e-02],\n",
       "       [ 5.28811408e-01,  1.01877812e-01,  2.65460176e-01,\n",
       "         9.59582180e-01,  3.36856102e-01,  7.09839834e-01,\n",
       "         9.62851667e-01, -9.39655072e-01, -6.06750120e-02],\n",
       "       [ 1.16591877e+00, -1.16758995e+00,  2.65460176e-01,\n",
       "        -6.43848689e-01, -3.89447874e-01, -2.11155025e-03,\n",
       "        -1.03858157e+00,  1.06422030e+00, -6.06750120e-02]])"
      ]
     },
     "execution_count": 33,
     "metadata": {},
     "output_type": "execute_result"
    }
   ],
   "source": [
    "scaller = StandardScaler()\n",
    "x_train_sc = scaller.fit_transform(X_train)\n",
    "x_test_sc = scaller.transform(X_test)\n",
    "x_train_sc[0:10,:]"
   ]
  },
  {
   "cell_type": "code",
   "execution_count": 34,
   "id": "88311b5c",
   "metadata": {},
   "outputs": [
    {
     "name": "stdout",
     "output_type": "stream",
     "text": [
      "{'Linear Regression': 0.7363909066368024, 'Decision Tree Regressor': 0.8079823420719582, 'Random Forest Regressor': 0.8830936101080034}\n"
     ]
    },
    {
     "data": {
      "text/plain": [
       "<Axes: >"
      ]
     },
     "execution_count": 34,
     "metadata": {},
     "output_type": "execute_result"
    },
    {
     "data": {
      "image/png": "[encoded data removed]",
      "text/plain": [
       "<Figure size 432x288 with 1 Axes>"
      ]
     },
     "metadata": {
      "needs_background": "light"
     },
     "output_type": "display_data"
    }
   ],
   "source": [
    "print(fit_and_score(models, x_train_sc, x_test_sc, Y_train, Y_test))\n",
    "model_compare = pd.DataFrame(fit_and_score(models, x_train_sc, x_test_sc, Y_train, Y_test), index=[\"accuracy\"])\n",
    "model_compare.plot.bar()"
   ]
  },
  {
   "cell_type": "markdown",
   "id": "5aacf773",
   "metadata": {},
   "source": [
    "=> à partir du graphique, nous pouvons décider que Random Forest Regressor est le meilleur modèle pour cette base de données.\n"
   ]
  },
  {
   "cell_type": "markdown",
   "id": "6d5b1442",
   "metadata": {},
   "source": [
    "# 7. Entraînement du modèle"
   ]
  },
  {
   "cell_type": "code",
   "execution_count": 35,
   "id": "ff302b91",
   "metadata": {},
   "outputs": [],
   "source": [
    "model = RandomForestRegressor()"
   ]
  },
  {
   "cell_type": "code",
   "execution_count": 36,
   "id": "dd9317ae",
   "metadata": {},
   "outputs": [
    {
     "data": {
      "text/plain": [
       "RandomForestRegressor()"
      ]
     },
     "execution_count": 36,
     "metadata": {},
     "output_type": "execute_result"
    }
   ],
   "source": [
    "# Formation du modèle RandomForestRegressor avec les données de formation\n",
    "model.fit(x_train_sc, Y_train)"
   ]
  },
  {
   "cell_type": "markdown",
   "id": "657fa12e",
   "metadata": {},
   "source": [
    "# 8. Validation et ajustement"
   ]
  },
  {
   "cell_type": "code",
   "execution_count": 37,
   "id": "045878cd",
   "metadata": {},
   "outputs": [
    {
     "name": "stdout",
     "output_type": "stream",
     "text": [
      "************************** Evaluation ***************************\n",
      "******************* MAE = 23435.727249147003\n",
      "******************* MSE = 1210353254.8415947\n",
      "******************* RMSE = 34790.13157263989\n",
      "******************* R2 = 0.9762902368517649\n",
      "*****************************************************************\n"
     ]
    }
   ],
   "source": [
    "# accuracy on training data\n",
    "X_train_prediction = model.predict(x_train_sc)\n",
    "\n",
    "\n",
    "# Assuming y_true contains true target values and y_pred contains predicted target values\n",
    "mae = mean_absolute_error(Y_train, X_train_prediction)\n",
    "mse = mean_squared_error(Y_train, X_train_prediction)\n",
    "rmse = np.sqrt(mse)\n",
    "r2 = r2_score(Y_train, X_train_prediction)\n",
    "print(f\"\"\"************************** Evaluation ***************************\n",
    "******************* MAE = {mae}\n",
    "******************* MSE = {mse}\n",
    "******************* RMSE = {rmse}\n",
    "******************* R2 = {r2}\n",
    "*****************************************************************\"\"\")"
   ]
  },
  {
   "cell_type": "markdown",
   "id": "77b88444",
   "metadata": {},
   "source": [
    "## Feature importance"
   ]
  },
  {
   "cell_type": "code",
   "execution_count": 38,
   "id": "91a904e7",
   "metadata": {},
   "outputs": [
    {
     "data": {
      "text/plain": [
       "{'year': 0.47609199537033053,\n",
       " 'km_driven': 0.06215991651423945,\n",
       " 'transmission': 0.0038365243853163565,\n",
       " 'owner': 0.010694149649381566,\n",
       " 'engine': 0.12950139753612405,\n",
       " 'max_power': 0.31115587512631376,\n",
       " 'fuel_2': 0.004001506130334423,\n",
       " 'fuel_3': 0.00247801852198082,\n",
       " 'fuel_LPG': 8.061676597900668e-05}"
      ]
     },
     "execution_count": 38,
     "metadata": {},
     "output_type": "execute_result"
    }
   ],
   "source": [
    "feature_dict = dict(zip(X.columns, list(model.feature_importances_)))\n",
    "feature_dict"
   ]
  },
  {
   "cell_type": "code",
   "execution_count": 39,
   "id": "36fc6231",
   "metadata": {},
   "outputs": [
    {
     "data": {
      "text/plain": [
       "<Axes: title={'center': 'Feature Importance'}>"
      ]
     },
     "execution_count": 39,
     "metadata": {},
     "output_type": "execute_result"
    },
    {
     "data": {
      "image/png": "[encoded data removed]",
      "text/plain": [
       "<Figure size 432x288 with 1 Axes>"
      ]
     },
     "metadata": {
      "needs_background": "light"
     },
     "output_type": "display_data"
    }
   ],
   "source": [
    "# Visualize feature importance\n",
    "feature_data = pd.DataFrame(feature_dict, index=[0])\n",
    "feature_data.T.plot.bar(title=\"Feature Importance\", legend=False)"
   ]
  },
  {
   "cell_type": "markdown",
   "id": "8865f9ec",
   "metadata": {},
   "source": [
    "# 9. Enregistrer le modèle"
   ]
  },
  {
   "cell_type": "code",
   "execution_count": 40,
   "id": "cca834e7",
   "metadata": {},
   "outputs": [],
   "source": [
    "import pickle\n",
    "pickle.dump(model,open('model.pkl','wb'))"
   ]
  },
  {
   "cell_type": "markdown",
   "id": "476031d6",
   "metadata": {},
   "source": [
    "<h2 style=\"text-align:right;\">Passer à l'étape 3 ...</h2>"
   ]
  },
  {
   "cell_type": "code",
   "execution_count": null,
   "id": "67f1132a",
   "metadata": {},
   "outputs": [],
   "source": []
  }
 ],
 "metadata": {
  "kernelspec": {
   "display_name": "Python 3 (ipykernel)",
   "language": "python",
   "name": "python3"
  },
  "language_info": {
   "codemirror_mode": {
    "name": "ipython",
    "version": 3
   },
   "file_extension": ".py",
   "mimetype": "text/x-python",
   "name": "python",
   "nbconvert_exporter": "python",
   "pygments_lexer": "ipython3",
   "version": "3.10.9"
  }
 },
 "nbformat": 4,
 "nbformat_minor": 5
}
