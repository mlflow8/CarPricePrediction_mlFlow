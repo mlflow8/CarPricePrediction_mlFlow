{
 "cells": [
  {
   "cell_type": "markdown",
   "id": "2884c455",
   "metadata": {},
   "source": [
    "<h1 style=\"text-align:center;\">Etape 4: Déploiement </h1>"
   ]
  },
  {
   "cell_type": "markdown",
   "id": "ef20814e",
   "metadata": {},
   "source": [
    "Dans cette étape, nous avons utilisé le modèle avec Postman pour effectuer des prédictions en temps réel à partir d'une API. Postman est un outil puissant qui vous permet de tester et d'interagir avec des API"
   ]
  },
  {
   "cell_type": "code",
   "execution_count": 21,
   "id": "bd4fba61",
   "metadata": {},
   "outputs": [
    {
     "name": "stdout",
     "output_type": "stream",
     "text": [
      " * Serving Flask app '__main__'\n",
      " * Debug mode: off\n"
     ]
    },
    {
     "name": "stderr",
     "output_type": "stream",
     "text": [
      "WARNING: This is a development server. Do not use it in a production deployment. Use a production WSGI server instead.\n",
      " * Running on http://127.0.0.1:5000\n",
      "Press CTRL+C to quit\n",
      "[2023-09-15 00:55:27,584] ERROR in app: Exception on /predict [POST]\n",
      "Traceback (most recent call last):\n",
      "  File \"C:\\Users\\MSI\\anaconda3\\lib\\site-packages\\flask\\app.py\", line 2525, in wsgi_app\n",
      "    response = self.full_dispatch_request()\n",
      "  File \"C:\\Users\\MSI\\anaconda3\\lib\\site-packages\\flask\\app.py\", line 1822, in full_dispatch_request\n",
      "    rv = self.handle_user_exception(e)\n",
      "  File \"C:\\Users\\MSI\\anaconda3\\lib\\site-packages\\flask\\app.py\", line 1820, in full_dispatch_request\n",
      "    rv = self.dispatch_request()\n",
      "  File \"C:\\Users\\MSI\\anaconda3\\lib\\site-packages\\flask\\app.py\", line 1796, in dispatch_request\n",
      "    return self.ensure_sync(self.view_functions[rule.endpoint])(**view_args)\n",
      "  File \"C:\\Users\\MSI\\AppData\\Local\\Temp\\ipykernel_21548\\834675750.py\", line 34, in predict\n",
      "    prediction = model.predict(input_data_reshaped)\n",
      "  File \"C:\\Users\\MSI\\anaconda3\\lib\\site-packages\\sklearn\\ensemble\\_forest.py\", line 971, in predict\n",
      "    X = self._validate_X_predict(X)\n",
      "  File \"C:\\Users\\MSI\\anaconda3\\lib\\site-packages\\sklearn\\ensemble\\_forest.py\", line 579, in _validate_X_predict\n",
      "    X = self._validate_data(X, dtype=DTYPE, accept_sparse=\"csr\", reset=False)\n",
      "  File \"C:\\Users\\MSI\\anaconda3\\lib\\site-packages\\sklearn\\base.py\", line 585, in _validate_data\n",
      "    self._check_n_features(X, reset=reset)\n",
      "  File \"C:\\Users\\MSI\\anaconda3\\lib\\site-packages\\sklearn\\base.py\", line 400, in _check_n_features\n",
      "    raise ValueError(\n",
      "ValueError: X has 8 features, but RandomForestRegressor is expecting 30 features as input.\n",
      "127.0.0.1 - - [15/Sep/2023 00:55:27] \"POST /predict HTTP/1.1\" 500 -\n"
     ]
    },
    {
     "name": "stdout",
     "output_type": "stream",
     "text": [
      "\n",
      "1\n"
     ]
    }
   ],
   "source": [
    "from flask import Flask, render_template, request, jsonify\n",
    "import numpy as np\n",
    "import pickle\n",
    "\n",
    "app = Flask(__name__)\n",
    "\n",
    "infile = open('model.pkl', 'rb')\n",
    "model = pickle.load(infile, encoding='bytes')\n",
    "\n",
    "@app.route('/')\n",
    "def index():\n",
    "    return render_template('index.html')  # Remplacez par le nom du modèle HTML\n",
    "\n",
    "@app.route('/predict', methods=['POST'])\n",
    "def predict():\n",
    "    json_data = request.get_json()\n",
    "    print()\n",
    "    name = json_data.get('name', '')\n",
    "    print(name)\n",
    "    transmission = json_data.get('transmission', '')\n",
    "    fuel = json_data.get('fuel', '')\n",
    "    owner = json_data.get('owner', '')\n",
    "    year = int(json_data.get('year', ''))\n",
    "    km_driven = int(json_data.get('km_driven', ''))\n",
    "    engine = int(json_data.get('engine', ''))\n",
    "    max_power = int(json_data.get('max_power', ''))\n",
    "        \n",
    "    input_query = tuple((name,transmission,fuel,owner,year,km_driven,engine,max_power))\n",
    "    # change the input data to numpy array\n",
    "    input_data_as_numpy_array = np.asarray(input_query)\n",
    "\n",
    "    # reshape the numpy array as we are predicitng for only on instance\n",
    "    input_data_reshaped = input_data_as_numpy_array.reshape(1, -1)\n",
    "    prediction = model.predict(input_data_reshaped)\n",
    "    return jsonify({'Result':str(prediction)})\n",
    "\n",
    "\n",
    "if __name__ == '__main__':\n",
    "    app.run()\n",
    "\n",
    "        \n"
   ]
  },
  {
   "cell_type": "code",
   "execution_count": null,
   "id": "d5683d85",
   "metadata": {},
   "outputs": [],
   "source": []
  }
 ],
 "metadata": {
  "kernelspec": {
   "display_name": "Python 3 (ipykernel)",
   "language": "python",
   "name": "python3"
  },
  "language_info": {
   "codemirror_mode": {
    "name": "ipython",
    "version": 3
   },
   "file_extension": ".py",
   "mimetype": "text/x-python",
   "name": "python",
   "nbconvert_exporter": "python",
   "pygments_lexer": "ipython3",
   "version": "3.9.12"
  }
 },
 "nbformat": 4,
 "nbformat_minor": 5
}
